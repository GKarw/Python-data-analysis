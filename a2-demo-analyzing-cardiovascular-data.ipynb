{
 "cells": [
  {
   "cell_type": "markdown",
   "id": "b0812ac8",
   "metadata": {
    "_uuid": "945c0f151b28ca53b79e0f7cf5b107af959a3370",
    "papermill": {
     "duration": 0.015264,
     "end_time": "2023-02-04T14:10:55.027762",
     "exception": false,
     "start_time": "2023-02-04T14:10:55.012498",
     "status": "completed"
    },
    "tags": []
   },
   "source": [
    "<center>\n",
    "<img src=\"https://habrastorage.org/webt/ia/m9/zk/iam9zkyzqebnf_okxipihkgjwnw.jpeg\">\n",
    "\n",
    "## [mlcourse.ai](https://mlcourse.ai) - Open Machine Learning Course\n",
    "    \n",
    "Authors: [Ilya Baryshnikov](https://www.linkedin.com/in/baryshnikov-ilya/), [Maxim Uvarov](https://www.linkedin.com/in/maxis42/), and [Yury Kashnitsky](https://yorko.github.io). Translated and edited by [Inga Kaydanova](https://www.linkedin.com/in/inga-kaidanova-a92398b1/), [Egor Polusmak](https://www.linkedin.com/in/egor-polusmak/), [Anastasia Manokhina](https://www.linkedin.com/in/anastasiamanokhina/), and [Yuanyuan Pao](https://www.linkedin.com/in/yuanyuanpao/). This material is subject to the terms and conditions of the [Creative Commons CC BY-NC-SA 4.0](https://creativecommons.org/licenses/by-nc-sa/4.0/) license. Free use is permitted for any non-commercial purpose."
   ]
  },
  {
   "cell_type": "markdown",
   "id": "33a7f851",
   "metadata": {
    "_uuid": "66409c8728e75df39a1390bcb634ae50c6b37652",
    "papermill": {
     "duration": 0.012863,
     "end_time": "2023-02-04T14:10:55.052811",
     "exception": false,
     "start_time": "2023-02-04T14:10:55.039948",
     "status": "completed"
    },
    "tags": []
   },
   "source": [
    "# <center>Assignment #2 (demo)\n",
    "## <center>Analyzing cardiovascular disease data "
   ]
  },
  {
   "cell_type": "markdown",
   "id": "97ef4318",
   "metadata": {
    "_uuid": "5cea59b8adb04c5a07a32c5b70a829319ba0cf2a",
    "papermill": {
     "duration": 0.010981,
     "end_time": "2023-02-04T14:10:55.075323",
     "exception": false,
     "start_time": "2023-02-04T14:10:55.064342",
     "status": "completed"
    },
    "tags": []
   },
   "source": [
    "In this assignment, you will answer questions about a dataset on cardiovascular disease. You do not need to download the data: it is already in the repository. There are some Tasks that will require you to write code. Complete them and then answer the questions in the [form](https://docs.google.com/forms/d/13cE_tSIb6hsScQvvWUJeu1MEHE5L6vnxQUbDYpXsf24). \n",
    "\n",
    "#### Problem\n",
    "\n",
    "Predict the presence or absence of cardiovascular disease (CVD) using the patient examination results.\n",
    "\n",
    "#### Data description\n",
    "\n",
    "There are 3 types of input features:\n",
    "\n",
    "- *Objective*: factual information;\n",
    "- *Examination*: results of medical examination;\n",
    "- *Subjective*: information given by the patient.\n",
    "\n",
    "| Feature | Variable Type | Variable      | Value Type |\n",
    "|---------|--------------|---------------|------------|\n",
    "| Age | Objective Feature | age | int (days) |\n",
    "| Height | Objective Feature | height | int (cm) |\n",
    "| Weight | Objective Feature | weight | float (kg) |\n",
    "| Gender | Objective Feature | gender | categorical code |\n",
    "| Systolic blood pressure | Examination Feature | ap_hi | int |\n",
    "| Diastolic blood pressure | Examination Feature | ap_lo | int |\n",
    "| Cholesterol | Examination Feature | cholesterol | 1: normal, 2: above normal, 3: well above normal |\n",
    "| Glucose | Examination Feature | gluc | 1: normal, 2: above normal, 3: well above normal |\n",
    "| Smoking | Subjective Feature | smoke | binary |\n",
    "| Alcohol intake | Subjective Feature | alco | binary |\n",
    "| Physical activity | Subjective Feature | active | binary |\n",
    "| Presence or absence of cardiovascular disease | Target Variable | cardio | binary |\n",
    "\n",
    "All of the dataset values were collected at the moment of medical examination."
   ]
  },
  {
   "cell_type": "markdown",
   "id": "9d84d2ae",
   "metadata": {
    "_uuid": "10749a7f9b46749e3a90ff697bc298760045c333",
    "papermill": {
     "duration": 0.013075,
     "end_time": "2023-02-04T14:10:55.101959",
     "exception": false,
     "start_time": "2023-02-04T14:10:55.088884",
     "status": "completed"
    },
    "tags": []
   },
   "source": [
    "Let's get to know our data by performing a preliminary data analysis.\n",
    "\n",
    "#  Part 1. Preliminary data analysis\n",
    "\n",
    "First, we will initialize the environment:"
   ]
  },
  {
   "cell_type": "code",
   "execution_count": 1,
   "id": "a364f6f7",
   "metadata": {
    "_uuid": "85426734e890fcf72416f29a953da115c1171080",
    "execution": {
     "iopub.execute_input": "2023-02-04T14:10:55.130097Z",
     "iopub.status.busy": "2023-02-04T14:10:55.129525Z",
     "iopub.status.idle": "2023-02-04T14:10:56.387807Z",
     "shell.execute_reply": "2023-02-04T14:10:56.385870Z"
    },
    "papermill": {
     "duration": 1.27705,
     "end_time": "2023-02-04T14:10:56.391533",
     "exception": false,
     "start_time": "2023-02-04T14:10:55.114483",
     "status": "completed"
    },
    "tags": []
   },
   "outputs": [],
   "source": [
    "# Import all required modules\n",
    "import pandas as pd\n",
    "import numpy as np\n",
    "\n",
    "# Disable warnings\n",
    "import warnings\n",
    "warnings.filterwarnings(\"ignore\")\n",
    "\n",
    "# Import plotting modules\n",
    "import seaborn as sns\n",
    "sns.set()\n",
    "import matplotlib\n",
    "import matplotlib.pyplot as plt\n",
    "import matplotlib.ticker\n",
    "%matplotlib inline"
   ]
  },
  {
   "cell_type": "markdown",
   "id": "589cbcec",
   "metadata": {
    "_uuid": "cbcf821e4bea8a7f7fb1ee4a9bf285b6c4b588ee",
    "papermill": {
     "duration": 0.012364,
     "end_time": "2023-02-04T14:10:56.416728",
     "exception": false,
     "start_time": "2023-02-04T14:10:56.404364",
     "status": "completed"
    },
    "tags": []
   },
   "source": [
    "You will use the `seaborn` library for visual analysis, so let's set that up too:"
   ]
  },
  {
   "cell_type": "code",
   "execution_count": 2,
   "id": "e7a9e60b",
   "metadata": {
    "_uuid": "b33601a0cadc2fb2d92f211c31bf99a502f71d48",
    "execution": {
     "iopub.execute_input": "2023-02-04T14:10:56.442451Z",
     "iopub.status.busy": "2023-02-04T14:10:56.441999Z",
     "iopub.status.idle": "2023-02-04T14:10:56.448926Z",
     "shell.execute_reply": "2023-02-04T14:10:56.447582Z"
    },
    "papermill": {
     "duration": 0.023706,
     "end_time": "2023-02-04T14:10:56.451986",
     "exception": false,
     "start_time": "2023-02-04T14:10:56.428280",
     "status": "completed"
    },
    "tags": []
   },
   "outputs": [],
   "source": [
    "# Tune the visual settings for figures in `seaborn`\n",
    "sns.set_context(\n",
    "    \"notebook\", \n",
    "    font_scale=1.5,       \n",
    "    rc={ \n",
    "        \"figure.figsize\": (11, 8), \n",
    "        \"axes.titlesize\": 18 \n",
    "    }\n",
    ")\n",
    "\n",
    "from matplotlib import rcParams\n",
    "rcParams['figure.figsize'] = 11, 8"
   ]
  },
  {
   "cell_type": "markdown",
   "id": "904a685f",
   "metadata": {
    "_uuid": "89381351e4b95530b355e0e55bc4536c0a813d10",
    "papermill": {
     "duration": 0.011895,
     "end_time": "2023-02-04T14:10:56.475396",
     "exception": false,
     "start_time": "2023-02-04T14:10:56.463501",
     "status": "completed"
    },
    "tags": []
   },
   "source": [
    "To make it simple, we will work only with the training part of the dataset:"
   ]
  },
  {
   "cell_type": "code",
   "execution_count": 3,
   "id": "4ee29789",
   "metadata": {
    "_uuid": "2bd0005e660693a061577ca5244b48ccebf36719",
    "execution": {
     "iopub.execute_input": "2023-02-04T14:10:56.503888Z",
     "iopub.status.busy": "2023-02-04T14:10:56.502655Z",
     "iopub.status.idle": "2023-02-04T14:10:56.687416Z",
     "shell.execute_reply": "2023-02-04T14:10:56.685588Z"
    },
    "papermill": {
     "duration": 0.203054,
     "end_time": "2023-02-04T14:10:56.691038",
     "exception": false,
     "start_time": "2023-02-04T14:10:56.487984",
     "status": "completed"
    },
    "tags": []
   },
   "outputs": [
    {
     "name": "stdout",
     "output_type": "stream",
     "text": [
      "Dataset size:  (70000, 13)\n"
     ]
    },
    {
     "data": {
      "text/html": [
       "<div>\n",
       "<style scoped>\n",
       "    .dataframe tbody tr th:only-of-type {\n",
       "        vertical-align: middle;\n",
       "    }\n",
       "\n",
       "    .dataframe tbody tr th {\n",
       "        vertical-align: top;\n",
       "    }\n",
       "\n",
       "    .dataframe thead th {\n",
       "        text-align: right;\n",
       "    }\n",
       "</style>\n",
       "<table border=\"1\" class=\"dataframe\">\n",
       "  <thead>\n",
       "    <tr style=\"text-align: right;\">\n",
       "      <th></th>\n",
       "      <th>id</th>\n",
       "      <th>age</th>\n",
       "      <th>gender</th>\n",
       "      <th>height</th>\n",
       "      <th>weight</th>\n",
       "      <th>ap_hi</th>\n",
       "      <th>ap_lo</th>\n",
       "      <th>cholesterol</th>\n",
       "      <th>gluc</th>\n",
       "      <th>smoke</th>\n",
       "      <th>alco</th>\n",
       "      <th>active</th>\n",
       "      <th>cardio</th>\n",
       "    </tr>\n",
       "  </thead>\n",
       "  <tbody>\n",
       "    <tr>\n",
       "      <th>0</th>\n",
       "      <td>0</td>\n",
       "      <td>18393</td>\n",
       "      <td>2</td>\n",
       "      <td>168</td>\n",
       "      <td>62.0</td>\n",
       "      <td>110</td>\n",
       "      <td>80</td>\n",
       "      <td>1</td>\n",
       "      <td>1</td>\n",
       "      <td>0</td>\n",
       "      <td>0</td>\n",
       "      <td>1</td>\n",
       "      <td>0</td>\n",
       "    </tr>\n",
       "    <tr>\n",
       "      <th>1</th>\n",
       "      <td>1</td>\n",
       "      <td>20228</td>\n",
       "      <td>1</td>\n",
       "      <td>156</td>\n",
       "      <td>85.0</td>\n",
       "      <td>140</td>\n",
       "      <td>90</td>\n",
       "      <td>3</td>\n",
       "      <td>1</td>\n",
       "      <td>0</td>\n",
       "      <td>0</td>\n",
       "      <td>1</td>\n",
       "      <td>1</td>\n",
       "    </tr>\n",
       "    <tr>\n",
       "      <th>2</th>\n",
       "      <td>2</td>\n",
       "      <td>18857</td>\n",
       "      <td>1</td>\n",
       "      <td>165</td>\n",
       "      <td>64.0</td>\n",
       "      <td>130</td>\n",
       "      <td>70</td>\n",
       "      <td>3</td>\n",
       "      <td>1</td>\n",
       "      <td>0</td>\n",
       "      <td>0</td>\n",
       "      <td>0</td>\n",
       "      <td>1</td>\n",
       "    </tr>\n",
       "    <tr>\n",
       "      <th>3</th>\n",
       "      <td>3</td>\n",
       "      <td>17623</td>\n",
       "      <td>2</td>\n",
       "      <td>169</td>\n",
       "      <td>82.0</td>\n",
       "      <td>150</td>\n",
       "      <td>100</td>\n",
       "      <td>1</td>\n",
       "      <td>1</td>\n",
       "      <td>0</td>\n",
       "      <td>0</td>\n",
       "      <td>1</td>\n",
       "      <td>1</td>\n",
       "    </tr>\n",
       "    <tr>\n",
       "      <th>4</th>\n",
       "      <td>4</td>\n",
       "      <td>17474</td>\n",
       "      <td>1</td>\n",
       "      <td>156</td>\n",
       "      <td>56.0</td>\n",
       "      <td>100</td>\n",
       "      <td>60</td>\n",
       "      <td>1</td>\n",
       "      <td>1</td>\n",
       "      <td>0</td>\n",
       "      <td>0</td>\n",
       "      <td>0</td>\n",
       "      <td>0</td>\n",
       "    </tr>\n",
       "  </tbody>\n",
       "</table>\n",
       "</div>"
      ],
      "text/plain": [
       "   id    age  gender  height  weight  ap_hi  ap_lo  cholesterol  gluc  smoke  \\\n",
       "0   0  18393       2     168    62.0    110     80            1     1      0   \n",
       "1   1  20228       1     156    85.0    140     90            3     1      0   \n",
       "2   2  18857       1     165    64.0    130     70            3     1      0   \n",
       "3   3  17623       2     169    82.0    150    100            1     1      0   \n",
       "4   4  17474       1     156    56.0    100     60            1     1      0   \n",
       "\n",
       "   alco  active  cardio  \n",
       "0     0       1       0  \n",
       "1     0       1       1  \n",
       "2     0       0       1  \n",
       "3     0       1       1  \n",
       "4     0       0       0  "
      ]
     },
     "execution_count": 3,
     "metadata": {},
     "output_type": "execute_result"
    }
   ],
   "source": [
    "df = pd.read_csv('../input/mlbootcamp5_train.csv')\n",
    "print('Dataset size: ', df.shape)\n",
    "df.head()"
   ]
  },
  {
   "cell_type": "markdown",
   "id": "0e42d23f",
   "metadata": {
    "_uuid": "636bf459023fbc1d1f1b73863c5246397dc26e6d",
    "papermill": {
     "duration": 0.011931,
     "end_time": "2023-02-04T14:10:56.716378",
     "exception": false,
     "start_time": "2023-02-04T14:10:56.704447",
     "status": "completed"
    },
    "tags": []
   },
   "source": [
    "It would be instructive to peek into the values of our variables.\n",
    " \n",
    "Let's convert the data into *long* format and depict the value counts of the categorical features using [`factorplot()`](https://seaborn.pydata.org/generated/seaborn.factorplot.html)."
   ]
  },
  {
   "cell_type": "code",
   "execution_count": 4,
   "id": "4338abbc",
   "metadata": {
    "_uuid": "334ad6a83e7bb58f2c65ec512bfc401a0948c17a",
    "execution": {
     "iopub.execute_input": "2023-02-04T14:10:56.744337Z",
     "iopub.status.busy": "2023-02-04T14:10:56.743878Z",
     "iopub.status.idle": "2023-02-04T14:10:57.633332Z",
     "shell.execute_reply": "2023-02-04T14:10:57.631438Z"
    },
    "papermill": {
     "duration": 0.907213,
     "end_time": "2023-02-04T14:10:57.636415",
     "exception": false,
     "start_time": "2023-02-04T14:10:56.729202",
     "status": "completed"
    },
    "tags": []
   },
   "outputs": [
    {
     "data": {
      "image/png": "[encoded data removed]",
      "text/plain": [
       "<Figure size 933.9x864 with 1 Axes>"
      ]
     },
     "metadata": {
      "needs_background": "light"
     },
     "output_type": "display_data"
    }
   ],
   "source": [
    "df_uniques = pd.melt(frame=df, value_vars=['gender','cholesterol', \n",
    "                                           'gluc', 'smoke', 'alco', \n",
    "                                           'active', 'cardio'])\n",
    "df_uniques = pd.DataFrame(df_uniques.groupby(['variable', \n",
    "                                              'value'])['value'].count()) \\\n",
    "    .sort_index(level=[0, 1]) \\\n",
    "    .rename(columns={'value': 'count'}) \\\n",
    "    .reset_index()\n",
    "\n",
    "sns.factorplot(x='variable', y='count', hue='value', \n",
    "               data=df_uniques, kind='bar', size=12);"
   ]
  },
  {
   "cell_type": "markdown",
   "id": "baa3d99d",
   "metadata": {
    "_uuid": "cb94ec9ddf78c607cdec5536581b8ec4004ac16b",
    "papermill": {
     "duration": 0.012817,
     "end_time": "2023-02-04T14:10:57.664275",
     "exception": false,
     "start_time": "2023-02-04T14:10:57.651458",
     "status": "completed"
    },
    "tags": []
   },
   "source": [
    "We can see that the target classes are balanced. That's great!\n",
    "\n",
    "Let's split the dataset by target values. Can you already spot the most significant feature by just looking at the plot?"
   ]
  },
  {
   "cell_type": "code",
   "execution_count": 5,
   "id": "10de0198",
   "metadata": {
    "_uuid": "a712d76f8c11588a9aebd4be6a00f01c53a8d80a",
    "execution": {
     "iopub.execute_input": "2023-02-04T14:10:57.692633Z",
     "iopub.status.busy": "2023-02-04T14:10:57.691358Z",
     "iopub.status.idle": "2023-02-04T14:10:58.869524Z",
     "shell.execute_reply": "2023-02-04T14:10:58.867865Z"
    },
    "papermill": {
     "duration": 1.19492,
     "end_time": "2023-02-04T14:10:58.872455",
     "exception": false,
     "start_time": "2023-02-04T14:10:57.677535",
     "status": "completed"
    },
    "tags": []
   },
   "outputs": [
    {
     "data": {
      "image/png": "[encoded data removed]",
      "text/plain": [
       "<Figure size 1365.9x648 with 2 Axes>"
      ]
     },
     "metadata": {
      "needs_background": "light"
     },
     "output_type": "display_data"
    }
   ],
   "source": [
    "df_uniques = pd.melt(frame=df, value_vars=['gender','cholesterol', \n",
    "                                           'gluc', 'smoke', 'alco', \n",
    "                                           'active'], \n",
    "                     id_vars=['cardio'])\n",
    "df_uniques = pd.DataFrame(df_uniques.groupby(['variable', 'value', \n",
    "                                              'cardio'])['value'].count()) \\\n",
    "    .sort_index(level=[0, 1]) \\\n",
    "    .rename(columns={'value': 'count'}) \\\n",
    "    .reset_index()\n",
    "\n",
    "sns.factorplot(x='variable', y='count', hue='value', \n",
    "               col='cardio', data=df_uniques, kind='bar', size=9);"
   ]
  },
  {
   "cell_type": "markdown",
   "id": "c46b0323",
   "metadata": {
    "_uuid": "4f4fdb7b979c6594b3060a0b80473fabbdf6acd0",
    "papermill": {
     "duration": 0.014126,
     "end_time": "2023-02-04T14:10:58.900647",
     "exception": false,
     "start_time": "2023-02-04T14:10:58.886521",
     "status": "completed"
    },
    "tags": []
   },
   "source": [
    "You can see that the distribution of cholesterol and glucose levels great differs by the value of the target variable. Is this a coincidence?\n",
    "\n",
    "Now, let's calculate some statistics for the feature unique values:"
   ]
  },
  {
   "cell_type": "code",
   "execution_count": 6,
   "id": "4fa015f3",
   "metadata": {
    "_uuid": "e9cbba719f93f6b544567638be7332b7385fc715",
    "execution": {
     "iopub.execute_input": "2023-02-04T14:10:58.931789Z",
     "iopub.status.busy": "2023-02-04T14:10:58.931368Z",
     "iopub.status.idle": "2023-02-04T14:10:58.965153Z",
     "shell.execute_reply": "2023-02-04T14:10:58.963746Z"
    },
    "papermill": {
     "duration": 0.052374,
     "end_time": "2023-02-04T14:10:58.967770",
     "exception": false,
     "start_time": "2023-02-04T14:10:58.915396",
     "status": "completed"
    },
    "tags": []
   },
   "outputs": [
    {
     "name": "stdout",
     "output_type": "stream",
     "text": [
      "id\n",
      "70000\n",
      "----------\n",
      "age\n",
      "8076\n",
      "----------\n",
      "gender\n",
      "2 [(1, 45530), (2, 24470)]\n",
      "----------\n",
      "height\n",
      "109\n",
      "----------\n",
      "weight\n",
      "287\n",
      "----------\n",
      "ap_hi\n",
      "153\n",
      "----------\n",
      "ap_lo\n",
      "157\n",
      "----------\n",
      "cholesterol\n",
      "3 [(1, 52385), (2, 9549), (3, 8066)]\n",
      "----------\n",
      "gluc\n",
      "3 [(1, 59479), (2, 5190), (3, 5331)]\n",
      "----------\n",
      "smoke\n",
      "2 [(0, 63831), (1, 6169)]\n",
      "----------\n",
      "alco\n",
      "2 [(0, 66236), (1, 3764)]\n",
      "----------\n",
      "active\n",
      "2 [(0, 13739), (1, 56261)]\n",
      "----------\n",
      "cardio\n",
      "2 [(0, 35021), (1, 34979)]\n",
      "----------\n"
     ]
    }
   ],
   "source": [
    "for c in df.columns:\n",
    "    n = df[c].nunique()\n",
    "    print(c)\n",
    "    if n <= 3:\n",
    "        print(n, sorted(df[c].value_counts().to_dict().items()))\n",
    "    else:\n",
    "        print(n)\n",
    "    print(10 * '-')"
   ]
  },
  {
   "cell_type": "markdown",
   "id": "edc14ecb",
   "metadata": {
    "_uuid": "53507160b237077bf8b19fb987b910669c04ba8b",
    "papermill": {
     "duration": 0.013284,
     "end_time": "2023-02-04T14:10:58.995953",
     "exception": false,
     "start_time": "2023-02-04T14:10:58.982669",
     "status": "completed"
    },
    "tags": []
   },
   "source": [
    "In the end, we have:\n",
    "- 5 numerical features (excluding *id*);\n",
    "- 7 categorical features;\n",
    "- 70000 records in total."
   ]
  },
  {
   "cell_type": "markdown",
   "id": "abccb134",
   "metadata": {
    "_uuid": "5f9dc83567c83c1ab2eeb4b855d3f8460c1a735e",
    "papermill": {
     "duration": 0.015111,
     "end_time": "2023-02-04T14:10:59.024586",
     "exception": false,
     "start_time": "2023-02-04T14:10:59.009475",
     "status": "completed"
    },
    "tags": []
   },
   "source": [
    "## 1.1. Basic observations"
   ]
  },
  {
   "cell_type": "markdown",
   "id": "160a829d",
   "metadata": {
    "_uuid": "129e6509399146154e8c7e293a2fd11f5d267fa4",
    "papermill": {
     "duration": 0.012502,
     "end_time": "2023-02-04T14:10:59.050479",
     "exception": false,
     "start_time": "2023-02-04T14:10:59.037977",
     "status": "completed"
    },
    "tags": []
   },
   "source": [
    "**Question 1.1. (1 point). How many men and women are present in this dataset? Values of the `gender` feature were not given (whether \"1\" stands for women or for men) – figure this out by looking analyzing height, making the assumption that men are taller on average. **\n",
    "1. 45530 women and 24470 men\n",
    "2. 45530 men and 24470 women\n",
    "3. 45470 women and 24530 men\n",
    "4. 45470 men and 24530 women"
   ]
  },
  {
   "cell_type": "code",
   "execution_count": 7,
   "id": "87efbd8e",
   "metadata": {
    "execution": {
     "iopub.execute_input": "2023-02-04T14:10:59.080196Z",
     "iopub.status.busy": "2023-02-04T14:10:59.079084Z",
     "iopub.status.idle": "2023-02-04T14:10:59.092830Z",
     "shell.execute_reply": "2023-02-04T14:10:59.091286Z"
    },
    "papermill": {
     "duration": 0.032047,
     "end_time": "2023-02-04T14:10:59.096090",
     "exception": false,
     "start_time": "2023-02-04T14:10:59.064043",
     "status": "completed"
    },
    "tags": []
   },
   "outputs": [
    {
     "data": {
      "text/plain": [
       "(161.35561168460356, 169.94789538210054)"
      ]
     },
     "execution_count": 7,
     "metadata": {},
     "output_type": "execute_result"
    }
   ],
   "source": [
    "avg1 = df.loc[df['gender'] == 1, 'height'].mean()\n",
    "avg2 = df.loc[df['gender'] == 2, 'height'].mean()\n",
    "avg1, avg2 #so 2 will be male, 1 will be female"
   ]
  },
  {
   "cell_type": "code",
   "execution_count": 8,
   "id": "9dbf044e",
   "metadata": {
    "execution": {
     "iopub.execute_input": "2023-02-04T14:10:59.127235Z",
     "iopub.status.busy": "2023-02-04T14:10:59.126513Z",
     "iopub.status.idle": "2023-02-04T14:10:59.139954Z",
     "shell.execute_reply": "2023-02-04T14:10:59.138561Z"
    },
    "papermill": {
     "duration": 0.032251,
     "end_time": "2023-02-04T14:10:59.142998",
     "exception": false,
     "start_time": "2023-02-04T14:10:59.110747",
     "status": "completed"
    },
    "tags": []
   },
   "outputs": [
    {
     "data": {
      "text/plain": [
       "gender\n",
       "1    161.355612\n",
       "2    169.947895\n",
       "Name: height, dtype: float64"
      ]
     },
     "execution_count": 8,
     "metadata": {},
     "output_type": "execute_result"
    }
   ],
   "source": [
    "df.groupby('gender')['height'].mean()"
   ]
  },
  {
   "cell_type": "code",
   "execution_count": 9,
   "id": "5ca2ff23",
   "metadata": {
    "execution": {
     "iopub.execute_input": "2023-02-04T14:10:59.175130Z",
     "iopub.status.busy": "2023-02-04T14:10:59.174431Z",
     "iopub.status.idle": "2023-02-04T14:10:59.184213Z",
     "shell.execute_reply": "2023-02-04T14:10:59.182469Z"
    },
    "papermill": {
     "duration": 0.03009,
     "end_time": "2023-02-04T14:10:59.187583",
     "exception": false,
     "start_time": "2023-02-04T14:10:59.157493",
     "status": "completed"
    },
    "tags": []
   },
   "outputs": [
    {
     "data": {
      "text/plain": [
       "1    45530\n",
       "2    24470\n",
       "Name: gender, dtype: int64"
      ]
     },
     "execution_count": 9,
     "metadata": {},
     "output_type": "execute_result"
    }
   ],
   "source": [
    "df['gender'].value_counts() \n",
    "#45530 women, 24470 men"
   ]
  },
  {
   "cell_type": "markdown",
   "id": "577a1763",
   "metadata": {
    "_uuid": "d6b36cf91cd63fcce92c4177475820bd6b94ec89",
    "papermill": {
     "duration": 0.014129,
     "end_time": "2023-02-04T14:10:59.215502",
     "exception": false,
     "start_time": "2023-02-04T14:10:59.201373",
     "status": "completed"
    },
    "tags": []
   },
   "source": [
    "**Question 1.2. (1 point). Which gender more often reports consuming alcohol - men or women?**\n",
    "1. women\n",
    "2. men"
   ]
  },
  {
   "cell_type": "code",
   "execution_count": 10,
   "id": "81738fac",
   "metadata": {
    "execution": {
     "iopub.execute_input": "2023-02-04T14:10:59.247088Z",
     "iopub.status.busy": "2023-02-04T14:10:59.246578Z",
     "iopub.status.idle": "2023-02-04T14:10:59.274254Z",
     "shell.execute_reply": "2023-02-04T14:10:59.272917Z"
    },
    "papermill": {
     "duration": 0.047043,
     "end_time": "2023-02-04T14:10:59.277143",
     "exception": false,
     "start_time": "2023-02-04T14:10:59.230100",
     "status": "completed"
    },
    "tags": []
   },
   "outputs": [
    {
     "data": {
      "text/html": [
       "<div>\n",
       "<style scoped>\n",
       "    .dataframe tbody tr th:only-of-type {\n",
       "        vertical-align: middle;\n",
       "    }\n",
       "\n",
       "    .dataframe tbody tr th {\n",
       "        vertical-align: top;\n",
       "    }\n",
       "\n",
       "    .dataframe thead th {\n",
       "        text-align: right;\n",
       "    }\n",
       "</style>\n",
       "<table border=\"1\" class=\"dataframe\">\n",
       "  <thead>\n",
       "    <tr style=\"text-align: right;\">\n",
       "      <th></th>\n",
       "      <th>id</th>\n",
       "      <th>age</th>\n",
       "      <th>gender</th>\n",
       "      <th>height</th>\n",
       "      <th>weight</th>\n",
       "      <th>ap_hi</th>\n",
       "      <th>ap_lo</th>\n",
       "      <th>cholesterol</th>\n",
       "      <th>gluc</th>\n",
       "      <th>smoke</th>\n",
       "      <th>alco</th>\n",
       "      <th>active</th>\n",
       "      <th>cardio</th>\n",
       "    </tr>\n",
       "  </thead>\n",
       "  <tbody>\n",
       "    <tr>\n",
       "      <th>0</th>\n",
       "      <td>0</td>\n",
       "      <td>18393</td>\n",
       "      <td>2</td>\n",
       "      <td>168</td>\n",
       "      <td>62.0</td>\n",
       "      <td>110</td>\n",
       "      <td>80</td>\n",
       "      <td>1</td>\n",
       "      <td>1</td>\n",
       "      <td>0</td>\n",
       "      <td>0</td>\n",
       "      <td>1</td>\n",
       "      <td>0</td>\n",
       "    </tr>\n",
       "    <tr>\n",
       "      <th>1</th>\n",
       "      <td>1</td>\n",
       "      <td>20228</td>\n",
       "      <td>1</td>\n",
       "      <td>156</td>\n",
       "      <td>85.0</td>\n",
       "      <td>140</td>\n",
       "      <td>90</td>\n",
       "      <td>3</td>\n",
       "      <td>1</td>\n",
       "      <td>0</td>\n",
       "      <td>0</td>\n",
       "      <td>1</td>\n",
       "      <td>1</td>\n",
       "    </tr>\n",
       "    <tr>\n",
       "      <th>2</th>\n",
       "      <td>2</td>\n",
       "      <td>18857</td>\n",
       "      <td>1</td>\n",
       "      <td>165</td>\n",
       "      <td>64.0</td>\n",
       "      <td>130</td>\n",
       "      <td>70</td>\n",
       "      <td>3</td>\n",
       "      <td>1</td>\n",
       "      <td>0</td>\n",
       "      <td>0</td>\n",
       "      <td>0</td>\n",
       "      <td>1</td>\n",
       "    </tr>\n",
       "    <tr>\n",
       "      <th>3</th>\n",
       "      <td>3</td>\n",
       "      <td>17623</td>\n",
       "      <td>2</td>\n",
       "      <td>169</td>\n",
       "      <td>82.0</td>\n",
       "      <td>150</td>\n",
       "      <td>100</td>\n",
       "      <td>1</td>\n",
       "      <td>1</td>\n",
       "      <td>0</td>\n",
       "      <td>0</td>\n",
       "      <td>1</td>\n",
       "      <td>1</td>\n",
       "    </tr>\n",
       "    <tr>\n",
       "      <th>4</th>\n",
       "      <td>4</td>\n",
       "      <td>17474</td>\n",
       "      <td>1</td>\n",
       "      <td>156</td>\n",
       "      <td>56.0</td>\n",
       "      <td>100</td>\n",
       "      <td>60</td>\n",
       "      <td>1</td>\n",
       "      <td>1</td>\n",
       "      <td>0</td>\n",
       "      <td>0</td>\n",
       "      <td>0</td>\n",
       "      <td>0</td>\n",
       "    </tr>\n",
       "    <tr>\n",
       "      <th>...</th>\n",
       "      <td>...</td>\n",
       "      <td>...</td>\n",
       "      <td>...</td>\n",
       "      <td>...</td>\n",
       "      <td>...</td>\n",
       "      <td>...</td>\n",
       "      <td>...</td>\n",
       "      <td>...</td>\n",
       "      <td>...</td>\n",
       "      <td>...</td>\n",
       "      <td>...</td>\n",
       "      <td>...</td>\n",
       "      <td>...</td>\n",
       "    </tr>\n",
       "    <tr>\n",
       "      <th>69995</th>\n",
       "      <td>99993</td>\n",
       "      <td>19240</td>\n",
       "      <td>2</td>\n",
       "      <td>168</td>\n",
       "      <td>76.0</td>\n",
       "      <td>120</td>\n",
       "      <td>80</td>\n",
       "      <td>1</td>\n",
       "      <td>1</td>\n",
       "      <td>1</td>\n",
       "      <td>0</td>\n",
       "      <td>1</td>\n",
       "      <td>0</td>\n",
       "    </tr>\n",
       "    <tr>\n",
       "      <th>69996</th>\n",
       "      <td>99995</td>\n",
       "      <td>22601</td>\n",
       "      <td>1</td>\n",
       "      <td>158</td>\n",
       "      <td>126.0</td>\n",
       "      <td>140</td>\n",
       "      <td>90</td>\n",
       "      <td>2</td>\n",
       "      <td>2</td>\n",
       "      <td>0</td>\n",
       "      <td>0</td>\n",
       "      <td>1</td>\n",
       "      <td>1</td>\n",
       "    </tr>\n",
       "    <tr>\n",
       "      <th>69997</th>\n",
       "      <td>99996</td>\n",
       "      <td>19066</td>\n",
       "      <td>2</td>\n",
       "      <td>183</td>\n",
       "      <td>105.0</td>\n",
       "      <td>180</td>\n",
       "      <td>90</td>\n",
       "      <td>3</td>\n",
       "      <td>1</td>\n",
       "      <td>0</td>\n",
       "      <td>1</td>\n",
       "      <td>0</td>\n",
       "      <td>1</td>\n",
       "    </tr>\n",
       "    <tr>\n",
       "      <th>69998</th>\n",
       "      <td>99998</td>\n",
       "      <td>22431</td>\n",
       "      <td>1</td>\n",
       "      <td>163</td>\n",
       "      <td>72.0</td>\n",
       "      <td>135</td>\n",
       "      <td>80</td>\n",
       "      <td>1</td>\n",
       "      <td>2</td>\n",
       "      <td>0</td>\n",
       "      <td>0</td>\n",
       "      <td>0</td>\n",
       "      <td>1</td>\n",
       "    </tr>\n",
       "    <tr>\n",
       "      <th>69999</th>\n",
       "      <td>99999</td>\n",
       "      <td>20540</td>\n",
       "      <td>1</td>\n",
       "      <td>170</td>\n",
       "      <td>72.0</td>\n",
       "      <td>120</td>\n",
       "      <td>80</td>\n",
       "      <td>2</td>\n",
       "      <td>1</td>\n",
       "      <td>0</td>\n",
       "      <td>0</td>\n",
       "      <td>1</td>\n",
       "      <td>0</td>\n",
       "    </tr>\n",
       "  </tbody>\n",
       "</table>\n",
       "<p>70000 rows × 13 columns</p>\n",
       "</div>"
      ],
      "text/plain": [
       "          id    age  gender  height  weight  ap_hi  ap_lo  cholesterol  gluc  \\\n",
       "0          0  18393       2     168    62.0    110     80            1     1   \n",
       "1          1  20228       1     156    85.0    140     90            3     1   \n",
       "2          2  18857       1     165    64.0    130     70            3     1   \n",
       "3          3  17623       2     169    82.0    150    100            1     1   \n",
       "4          4  17474       1     156    56.0    100     60            1     1   \n",
       "...      ...    ...     ...     ...     ...    ...    ...          ...   ...   \n",
       "69995  99993  19240       2     168    76.0    120     80            1     1   \n",
       "69996  99995  22601       1     158   126.0    140     90            2     2   \n",
       "69997  99996  19066       2     183   105.0    180     90            3     1   \n",
       "69998  99998  22431       1     163    72.0    135     80            1     2   \n",
       "69999  99999  20540       1     170    72.0    120     80            2     1   \n",
       "\n",
       "       smoke  alco  active  cardio  \n",
       "0          0     0       1       0  \n",
       "1          0     0       1       1  \n",
       "2          0     0       0       1  \n",
       "3          0     0       1       1  \n",
       "4          0     0       0       0  \n",
       "...      ...   ...     ...     ...  \n",
       "69995      1     0       1       0  \n",
       "69996      0     0       1       1  \n",
       "69997      0     1       0       1  \n",
       "69998      0     0       0       1  \n",
       "69999      0     0       1       0  \n",
       "\n",
       "[70000 rows x 13 columns]"
      ]
     },
     "execution_count": 10,
     "metadata": {},
     "output_type": "execute_result"
    }
   ],
   "source": [
    "df"
   ]
  },
  {
   "cell_type": "code",
   "execution_count": 11,
   "id": "f0d6920d",
   "metadata": {
    "execution": {
     "iopub.execute_input": "2023-02-04T14:10:59.311517Z",
     "iopub.status.busy": "2023-02-04T14:10:59.309976Z",
     "iopub.status.idle": "2023-02-04T14:10:59.324148Z",
     "shell.execute_reply": "2023-02-04T14:10:59.321984Z"
    },
    "papermill": {
     "duration": 0.034021,
     "end_time": "2023-02-04T14:10:59.327254",
     "exception": false,
     "start_time": "2023-02-04T14:10:59.293233",
     "status": "completed"
    },
    "tags": []
   },
   "outputs": [
    {
     "data": {
      "text/plain": [
       "gender\n",
       "1    0.025500\n",
       "2    0.106375\n",
       "Name: alco, dtype: float64"
      ]
     },
     "execution_count": 11,
     "metadata": {},
     "output_type": "execute_result"
    }
   ],
   "source": [
    "df.groupby('gender')['alco'].mean()"
   ]
  },
  {
   "cell_type": "markdown",
   "id": "5ff0ddda",
   "metadata": {
    "_uuid": "8b98389e26edd01374d6217d8dd1e2d5ffff9d1c",
    "papermill": {
     "duration": 0.015018,
     "end_time": "2023-02-04T14:10:59.356116",
     "exception": false,
     "start_time": "2023-02-04T14:10:59.341098",
     "status": "completed"
    },
    "tags": []
   },
   "source": [
    "**Question 1.3. (1 point). What is the difference between the percentages of smokers among men and women (rounded)?**\n",
    "1. 4\n",
    "2. 16\n",
    "3. 20\n",
    "4. 24"
   ]
  },
  {
   "cell_type": "code",
   "execution_count": 12,
   "id": "5c054fec",
   "metadata": {
    "execution": {
     "iopub.execute_input": "2023-02-04T14:10:59.391510Z",
     "iopub.status.busy": "2023-02-04T14:10:59.390968Z",
     "iopub.status.idle": "2023-02-04T14:10:59.404559Z",
     "shell.execute_reply": "2023-02-04T14:10:59.403305Z"
    },
    "papermill": {
     "duration": 0.035788,
     "end_time": "2023-02-04T14:10:59.408162",
     "exception": false,
     "start_time": "2023-02-04T14:10:59.372374",
     "status": "completed"
    },
    "tags": []
   },
   "outputs": [
    {
     "data": {
      "text/plain": [
       "20"
      ]
     },
     "execution_count": 12,
     "metadata": {},
     "output_type": "execute_result"
    }
   ],
   "source": [
    "perc_smokers_women = (df.loc[df['gender'] == 1, 'smoke'].mean()) *100\n",
    "perc_smokers_men = (df.loc[df['gender'] == 2, 'smoke'].mean()) *100\n",
    "round(perc_smokers_men) - round(perc_smokers_women)"
   ]
  },
  {
   "cell_type": "markdown",
   "id": "ec680eb3",
   "metadata": {
    "_uuid": "c92554c5fe98a07b298cec98eaa2622a3bedbeeb",
    "papermill": {
     "duration": 0.014339,
     "end_time": "2023-02-04T14:10:59.437466",
     "exception": false,
     "start_time": "2023-02-04T14:10:59.423127",
     "status": "completed"
    },
    "tags": []
   },
   "source": [
    "**Question 1.4. (1 point). What is the difference between median values of age for smokers and non-smokers (in months, rounded)? You'll need to figure out the units of feature `age` in this dataset.**\n",
    "\n",
    "1. 5\n",
    "2. 10\n",
    "3. 15\n",
    "4. 20"
   ]
  },
  {
   "cell_type": "code",
   "execution_count": 13,
   "id": "62d26e52",
   "metadata": {
    "execution": {
     "iopub.execute_input": "2023-02-04T14:10:59.469104Z",
     "iopub.status.busy": "2023-02-04T14:10:59.468600Z",
     "iopub.status.idle": "2023-02-04T14:10:59.489111Z",
     "shell.execute_reply": "2023-02-04T14:10:59.487439Z"
    },
    "papermill": {
     "duration": 0.039768,
     "end_time": "2023-02-04T14:10:59.492481",
     "exception": false,
     "start_time": "2023-02-04T14:10:59.452713",
     "status": "completed"
    },
    "tags": []
   },
   "outputs": [
    {
     "data": {
      "text/plain": [
       "-19.61396303901438"
      ]
     },
     "execution_count": 13,
     "metadata": {},
     "output_type": "execute_result"
    }
   ],
   "source": [
    "smokers = ((df.loc[df['smoke'] == 1, 'age'])/365.25).median()\n",
    "non_smokers = ((df.loc[df['smoke'] == 0, 'age'])/365.25).median()\n",
    "(smokers - non_smokers)*12"
   ]
  },
  {
   "cell_type": "code",
   "execution_count": 14,
   "id": "65cc518f",
   "metadata": {
    "_uuid": "8caffb39e65c95e4cfebfe448bbe224af4d0766c",
    "execution": {
     "iopub.execute_input": "2023-02-04T14:10:59.525867Z",
     "iopub.status.busy": "2023-02-04T14:10:59.525125Z",
     "iopub.status.idle": "2023-02-04T14:11:00.854374Z",
     "shell.execute_reply": "2023-02-04T14:11:00.852923Z"
    },
    "papermill": {
     "duration": 1.349993,
     "end_time": "2023-02-04T14:11:00.858130",
     "exception": false,
     "start_time": "2023-02-04T14:10:59.508137",
     "status": "completed"
    },
    "tags": []
   },
   "outputs": [
    {
     "data": {
      "text/html": [
       "<div>\n",
       "<style scoped>\n",
       "    .dataframe tbody tr th:only-of-type {\n",
       "        vertical-align: middle;\n",
       "    }\n",
       "\n",
       "    .dataframe tbody tr th {\n",
       "        vertical-align: top;\n",
       "    }\n",
       "\n",
       "    .dataframe thead th {\n",
       "        text-align: right;\n",
       "    }\n",
       "</style>\n",
       "<table border=\"1\" class=\"dataframe\">\n",
       "  <thead>\n",
       "    <tr style=\"text-align: right;\">\n",
       "      <th></th>\n",
       "      <th>id</th>\n",
       "      <th>age</th>\n",
       "      <th>gender</th>\n",
       "      <th>height</th>\n",
       "      <th>weight</th>\n",
       "      <th>ap_hi</th>\n",
       "      <th>ap_lo</th>\n",
       "      <th>cholesterol</th>\n",
       "      <th>gluc</th>\n",
       "      <th>smoke</th>\n",
       "      <th>alco</th>\n",
       "      <th>active</th>\n",
       "      <th>cardio</th>\n",
       "      <th>age_years</th>\n",
       "    </tr>\n",
       "  </thead>\n",
       "  <tbody>\n",
       "    <tr>\n",
       "      <th>0</th>\n",
       "      <td>0</td>\n",
       "      <td>18393</td>\n",
       "      <td>2</td>\n",
       "      <td>168</td>\n",
       "      <td>62.0</td>\n",
       "      <td>110</td>\n",
       "      <td>80</td>\n",
       "      <td>1</td>\n",
       "      <td>1</td>\n",
       "      <td>0</td>\n",
       "      <td>0</td>\n",
       "      <td>1</td>\n",
       "      <td>0</td>\n",
       "      <td>57</td>\n",
       "    </tr>\n",
       "    <tr>\n",
       "      <th>1</th>\n",
       "      <td>1</td>\n",
       "      <td>20228</td>\n",
       "      <td>1</td>\n",
       "      <td>156</td>\n",
       "      <td>85.0</td>\n",
       "      <td>140</td>\n",
       "      <td>90</td>\n",
       "      <td>3</td>\n",
       "      <td>1</td>\n",
       "      <td>0</td>\n",
       "      <td>0</td>\n",
       "      <td>1</td>\n",
       "      <td>1</td>\n",
       "      <td>62</td>\n",
       "    </tr>\n",
       "    <tr>\n",
       "      <th>2</th>\n",
       "      <td>2</td>\n",
       "      <td>18857</td>\n",
       "      <td>1</td>\n",
       "      <td>165</td>\n",
       "      <td>64.0</td>\n",
       "      <td>130</td>\n",
       "      <td>70</td>\n",
       "      <td>3</td>\n",
       "      <td>1</td>\n",
       "      <td>0</td>\n",
       "      <td>0</td>\n",
       "      <td>0</td>\n",
       "      <td>1</td>\n",
       "      <td>58</td>\n",
       "    </tr>\n",
       "    <tr>\n",
       "      <th>3</th>\n",
       "      <td>3</td>\n",
       "      <td>17623</td>\n",
       "      <td>2</td>\n",
       "      <td>169</td>\n",
       "      <td>82.0</td>\n",
       "      <td>150</td>\n",
       "      <td>100</td>\n",
       "      <td>1</td>\n",
       "      <td>1</td>\n",
       "      <td>0</td>\n",
       "      <td>0</td>\n",
       "      <td>1</td>\n",
       "      <td>1</td>\n",
       "      <td>54</td>\n",
       "    </tr>\n",
       "    <tr>\n",
       "      <th>4</th>\n",
       "      <td>4</td>\n",
       "      <td>17474</td>\n",
       "      <td>1</td>\n",
       "      <td>156</td>\n",
       "      <td>56.0</td>\n",
       "      <td>100</td>\n",
       "      <td>60</td>\n",
       "      <td>1</td>\n",
       "      <td>1</td>\n",
       "      <td>0</td>\n",
       "      <td>0</td>\n",
       "      <td>0</td>\n",
       "      <td>0</td>\n",
       "      <td>54</td>\n",
       "    </tr>\n",
       "    <tr>\n",
       "      <th>...</th>\n",
       "      <td>...</td>\n",
       "      <td>...</td>\n",
       "      <td>...</td>\n",
       "      <td>...</td>\n",
       "      <td>...</td>\n",
       "      <td>...</td>\n",
       "      <td>...</td>\n",
       "      <td>...</td>\n",
       "      <td>...</td>\n",
       "      <td>...</td>\n",
       "      <td>...</td>\n",
       "      <td>...</td>\n",
       "      <td>...</td>\n",
       "      <td>...</td>\n",
       "    </tr>\n",
       "    <tr>\n",
       "      <th>69995</th>\n",
       "      <td>99993</td>\n",
       "      <td>19240</td>\n",
       "      <td>2</td>\n",
       "      <td>168</td>\n",
       "      <td>76.0</td>\n",
       "      <td>120</td>\n",
       "      <td>80</td>\n",
       "      <td>1</td>\n",
       "      <td>1</td>\n",
       "      <td>1</td>\n",
       "      <td>0</td>\n",
       "      <td>1</td>\n",
       "      <td>0</td>\n",
       "      <td>59</td>\n",
       "    </tr>\n",
       "    <tr>\n",
       "      <th>69996</th>\n",
       "      <td>99995</td>\n",
       "      <td>22601</td>\n",
       "      <td>1</td>\n",
       "      <td>158</td>\n",
       "      <td>126.0</td>\n",
       "      <td>140</td>\n",
       "      <td>90</td>\n",
       "      <td>2</td>\n",
       "      <td>2</td>\n",
       "      <td>0</td>\n",
       "      <td>0</td>\n",
       "      <td>1</td>\n",
       "      <td>1</td>\n",
       "      <td>69</td>\n",
       "    </tr>\n",
       "    <tr>\n",
       "      <th>69997</th>\n",
       "      <td>99996</td>\n",
       "      <td>19066</td>\n",
       "      <td>2</td>\n",
       "      <td>183</td>\n",
       "      <td>105.0</td>\n",
       "      <td>180</td>\n",
       "      <td>90</td>\n",
       "      <td>3</td>\n",
       "      <td>1</td>\n",
       "      <td>0</td>\n",
       "      <td>1</td>\n",
       "      <td>0</td>\n",
       "      <td>1</td>\n",
       "      <td>59</td>\n",
       "    </tr>\n",
       "    <tr>\n",
       "      <th>69998</th>\n",
       "      <td>99998</td>\n",
       "      <td>22431</td>\n",
       "      <td>1</td>\n",
       "      <td>163</td>\n",
       "      <td>72.0</td>\n",
       "      <td>135</td>\n",
       "      <td>80</td>\n",
       "      <td>1</td>\n",
       "      <td>2</td>\n",
       "      <td>0</td>\n",
       "      <td>0</td>\n",
       "      <td>0</td>\n",
       "      <td>1</td>\n",
       "      <td>69</td>\n",
       "    </tr>\n",
       "    <tr>\n",
       "      <th>69999</th>\n",
       "      <td>99999</td>\n",
       "      <td>20540</td>\n",
       "      <td>1</td>\n",
       "      <td>170</td>\n",
       "      <td>72.0</td>\n",
       "      <td>120</td>\n",
       "      <td>80</td>\n",
       "      <td>2</td>\n",
       "      <td>1</td>\n",
       "      <td>0</td>\n",
       "      <td>0</td>\n",
       "      <td>1</td>\n",
       "      <td>0</td>\n",
       "      <td>63</td>\n",
       "    </tr>\n",
       "  </tbody>\n",
       "</table>\n",
       "<p>70000 rows × 14 columns</p>\n",
       "</div>"
      ],
      "text/plain": [
       "          id    age  gender  height  weight  ap_hi  ap_lo  cholesterol  gluc  \\\n",
       "0          0  18393       2     168    62.0    110     80            1     1   \n",
       "1          1  20228       1     156    85.0    140     90            3     1   \n",
       "2          2  18857       1     165    64.0    130     70            3     1   \n",
       "3          3  17623       2     169    82.0    150    100            1     1   \n",
       "4          4  17474       1     156    56.0    100     60            1     1   \n",
       "...      ...    ...     ...     ...     ...    ...    ...          ...   ...   \n",
       "69995  99993  19240       2     168    76.0    120     80            1     1   \n",
       "69996  99995  22601       1     158   126.0    140     90            2     2   \n",
       "69997  99996  19066       2     183   105.0    180     90            3     1   \n",
       "69998  99998  22431       1     163    72.0    135     80            1     2   \n",
       "69999  99999  20540       1     170    72.0    120     80            2     1   \n",
       "\n",
       "       smoke  alco  active  cardio  age_years  \n",
       "0          0     0       1       0         57  \n",
       "1          0     0       1       1         62  \n",
       "2          0     0       0       1         58  \n",
       "3          0     0       1       1         54  \n",
       "4          0     0       0       0         54  \n",
       "...      ...   ...     ...     ...        ...  \n",
       "69995      1     0       1       0         59  \n",
       "69996      0     0       1       1         69  \n",
       "69997      0     1       0       1         59  \n",
       "69998      0     0       0       1         69  \n",
       "69999      0     0       1       0         63  \n",
       "\n",
       "[70000 rows x 14 columns]"
      ]
     },
     "execution_count": 14,
     "metadata": {},
     "output_type": "execute_result"
    }
   ],
   "source": [
    "df['age_years'] = df.apply(lambda column: round(column.age/325.25), axis = 1)\n",
    "df"
   ]
  },
  {
   "cell_type": "markdown",
   "id": "acacaa6b",
   "metadata": {
    "_uuid": "54cef692e0af3745091c7177d63a2d6c36044474",
    "papermill": {
     "duration": 0.015804,
     "end_time": "2023-02-04T14:11:00.888700",
     "exception": false,
     "start_time": "2023-02-04T14:11:00.872896",
     "status": "completed"
    },
    "tags": []
   },
   "source": [
    "## 1.3. Analyzing BMI\n",
    "### Task:"
   ]
  },
  {
   "cell_type": "markdown",
   "id": "8c3b655d",
   "metadata": {
    "_uuid": "c52b4b1c20956e3cc420bb13e7bb12d80aa3ef1a",
    "papermill": {
     "duration": 0.014321,
     "end_time": "2023-02-04T14:11:00.918018",
     "exception": false,
     "start_time": "2023-02-04T14:11:00.903697",
     "status": "completed"
    },
    "tags": []
   },
   "source": [
    "Create a new feature – BMI ([Body Mass Index](https://en.wikipedia.org/wiki/Body_mass_index)). To do this, divide weight in kilogramms by the square of the height in meters. Normal BMI values are said to be from 18.5 to 25. "
   ]
  },
  {
   "cell_type": "code",
   "execution_count": 15,
   "id": "6cf3a8cc",
   "metadata": {
    "_uuid": "5b3134f2597650ae95d0196393b30797518f0498",
    "execution": {
     "iopub.execute_input": "2023-02-04T14:11:00.949723Z",
     "iopub.status.busy": "2023-02-04T14:11:00.949320Z",
     "iopub.status.idle": "2023-02-04T14:11:03.964695Z",
     "shell.execute_reply": "2023-02-04T14:11:03.963319Z"
    },
    "papermill": {
     "duration": 3.036158,
     "end_time": "2023-02-04T14:11:03.969262",
     "exception": false,
     "start_time": "2023-02-04T14:11:00.933104",
     "status": "completed"
    },
    "tags": []
   },
   "outputs": [
    {
     "data": {
      "text/html": [
       "<div>\n",
       "<style scoped>\n",
       "    .dataframe tbody tr th:only-of-type {\n",
       "        vertical-align: middle;\n",
       "    }\n",
       "\n",
       "    .dataframe tbody tr th {\n",
       "        vertical-align: top;\n",
       "    }\n",
       "\n",
       "    .dataframe thead th {\n",
       "        text-align: right;\n",
       "    }\n",
       "</style>\n",
       "<table border=\"1\" class=\"dataframe\">\n",
       "  <thead>\n",
       "    <tr style=\"text-align: right;\">\n",
       "      <th></th>\n",
       "      <th>id</th>\n",
       "      <th>age</th>\n",
       "      <th>gender</th>\n",
       "      <th>height</th>\n",
       "      <th>weight</th>\n",
       "      <th>ap_hi</th>\n",
       "      <th>ap_lo</th>\n",
       "      <th>cholesterol</th>\n",
       "      <th>gluc</th>\n",
       "      <th>smoke</th>\n",
       "      <th>alco</th>\n",
       "      <th>active</th>\n",
       "      <th>cardio</th>\n",
       "      <th>age_years</th>\n",
       "      <th>BMI</th>\n",
       "    </tr>\n",
       "  </thead>\n",
       "  <tbody>\n",
       "    <tr>\n",
       "      <th>0</th>\n",
       "      <td>0</td>\n",
       "      <td>18393</td>\n",
       "      <td>2</td>\n",
       "      <td>168</td>\n",
       "      <td>62.0</td>\n",
       "      <td>110</td>\n",
       "      <td>80</td>\n",
       "      <td>1</td>\n",
       "      <td>1</td>\n",
       "      <td>0</td>\n",
       "      <td>0</td>\n",
       "      <td>1</td>\n",
       "      <td>0</td>\n",
       "      <td>57</td>\n",
       "      <td>22.0</td>\n",
       "    </tr>\n",
       "    <tr>\n",
       "      <th>1</th>\n",
       "      <td>1</td>\n",
       "      <td>20228</td>\n",
       "      <td>1</td>\n",
       "      <td>156</td>\n",
       "      <td>85.0</td>\n",
       "      <td>140</td>\n",
       "      <td>90</td>\n",
       "      <td>3</td>\n",
       "      <td>1</td>\n",
       "      <td>0</td>\n",
       "      <td>0</td>\n",
       "      <td>1</td>\n",
       "      <td>1</td>\n",
       "      <td>62</td>\n",
       "      <td>34.9</td>\n",
       "    </tr>\n",
       "    <tr>\n",
       "      <th>2</th>\n",
       "      <td>2</td>\n",
       "      <td>18857</td>\n",
       "      <td>1</td>\n",
       "      <td>165</td>\n",
       "      <td>64.0</td>\n",
       "      <td>130</td>\n",
       "      <td>70</td>\n",
       "      <td>3</td>\n",
       "      <td>1</td>\n",
       "      <td>0</td>\n",
       "      <td>0</td>\n",
       "      <td>0</td>\n",
       "      <td>1</td>\n",
       "      <td>58</td>\n",
       "      <td>23.5</td>\n",
       "    </tr>\n",
       "    <tr>\n",
       "      <th>3</th>\n",
       "      <td>3</td>\n",
       "      <td>17623</td>\n",
       "      <td>2</td>\n",
       "      <td>169</td>\n",
       "      <td>82.0</td>\n",
       "      <td>150</td>\n",
       "      <td>100</td>\n",
       "      <td>1</td>\n",
       "      <td>1</td>\n",
       "      <td>0</td>\n",
       "      <td>0</td>\n",
       "      <td>1</td>\n",
       "      <td>1</td>\n",
       "      <td>54</td>\n",
       "      <td>28.7</td>\n",
       "    </tr>\n",
       "    <tr>\n",
       "      <th>4</th>\n",
       "      <td>4</td>\n",
       "      <td>17474</td>\n",
       "      <td>1</td>\n",
       "      <td>156</td>\n",
       "      <td>56.0</td>\n",
       "      <td>100</td>\n",
       "      <td>60</td>\n",
       "      <td>1</td>\n",
       "      <td>1</td>\n",
       "      <td>0</td>\n",
       "      <td>0</td>\n",
       "      <td>0</td>\n",
       "      <td>0</td>\n",
       "      <td>54</td>\n",
       "      <td>23.0</td>\n",
       "    </tr>\n",
       "    <tr>\n",
       "      <th>...</th>\n",
       "      <td>...</td>\n",
       "      <td>...</td>\n",
       "      <td>...</td>\n",
       "      <td>...</td>\n",
       "      <td>...</td>\n",
       "      <td>...</td>\n",
       "      <td>...</td>\n",
       "      <td>...</td>\n",
       "      <td>...</td>\n",
       "      <td>...</td>\n",
       "      <td>...</td>\n",
       "      <td>...</td>\n",
       "      <td>...</td>\n",
       "      <td>...</td>\n",
       "      <td>...</td>\n",
       "    </tr>\n",
       "    <tr>\n",
       "      <th>69995</th>\n",
       "      <td>99993</td>\n",
       "      <td>19240</td>\n",
       "      <td>2</td>\n",
       "      <td>168</td>\n",
       "      <td>76.0</td>\n",
       "      <td>120</td>\n",
       "      <td>80</td>\n",
       "      <td>1</td>\n",
       "      <td>1</td>\n",
       "      <td>1</td>\n",
       "      <td>0</td>\n",
       "      <td>1</td>\n",
       "      <td>0</td>\n",
       "      <td>59</td>\n",
       "      <td>26.9</td>\n",
       "    </tr>\n",
       "    <tr>\n",
       "      <th>69996</th>\n",
       "      <td>99995</td>\n",
       "      <td>22601</td>\n",
       "      <td>1</td>\n",
       "      <td>158</td>\n",
       "      <td>126.0</td>\n",
       "      <td>140</td>\n",
       "      <td>90</td>\n",
       "      <td>2</td>\n",
       "      <td>2</td>\n",
       "      <td>0</td>\n",
       "      <td>0</td>\n",
       "      <td>1</td>\n",
       "      <td>1</td>\n",
       "      <td>69</td>\n",
       "      <td>50.5</td>\n",
       "    </tr>\n",
       "    <tr>\n",
       "      <th>69997</th>\n",
       "      <td>99996</td>\n",
       "      <td>19066</td>\n",
       "      <td>2</td>\n",
       "      <td>183</td>\n",
       "      <td>105.0</td>\n",
       "      <td>180</td>\n",
       "      <td>90</td>\n",
       "      <td>3</td>\n",
       "      <td>1</td>\n",
       "      <td>0</td>\n",
       "      <td>1</td>\n",
       "      <td>0</td>\n",
       "      <td>1</td>\n",
       "      <td>59</td>\n",
       "      <td>31.4</td>\n",
       "    </tr>\n",
       "    <tr>\n",
       "      <th>69998</th>\n",
       "      <td>99998</td>\n",
       "      <td>22431</td>\n",
       "      <td>1</td>\n",
       "      <td>163</td>\n",
       "      <td>72.0</td>\n",
       "      <td>135</td>\n",
       "      <td>80</td>\n",
       "      <td>1</td>\n",
       "      <td>2</td>\n",
       "      <td>0</td>\n",
       "      <td>0</td>\n",
       "      <td>0</td>\n",
       "      <td>1</td>\n",
       "      <td>69</td>\n",
       "      <td>27.1</td>\n",
       "    </tr>\n",
       "    <tr>\n",
       "      <th>69999</th>\n",
       "      <td>99999</td>\n",
       "      <td>20540</td>\n",
       "      <td>1</td>\n",
       "      <td>170</td>\n",
       "      <td>72.0</td>\n",
       "      <td>120</td>\n",
       "      <td>80</td>\n",
       "      <td>2</td>\n",
       "      <td>1</td>\n",
       "      <td>0</td>\n",
       "      <td>0</td>\n",
       "      <td>1</td>\n",
       "      <td>0</td>\n",
       "      <td>63</td>\n",
       "      <td>24.9</td>\n",
       "    </tr>\n",
       "  </tbody>\n",
       "</table>\n",
       "<p>70000 rows × 15 columns</p>\n",
       "</div>"
      ],
      "text/plain": [
       "          id    age  gender  height  weight  ap_hi  ap_lo  cholesterol  gluc  \\\n",
       "0          0  18393       2     168    62.0    110     80            1     1   \n",
       "1          1  20228       1     156    85.0    140     90            3     1   \n",
       "2          2  18857       1     165    64.0    130     70            3     1   \n",
       "3          3  17623       2     169    82.0    150    100            1     1   \n",
       "4          4  17474       1     156    56.0    100     60            1     1   \n",
       "...      ...    ...     ...     ...     ...    ...    ...          ...   ...   \n",
       "69995  99993  19240       2     168    76.0    120     80            1     1   \n",
       "69996  99995  22601       1     158   126.0    140     90            2     2   \n",
       "69997  99996  19066       2     183   105.0    180     90            3     1   \n",
       "69998  99998  22431       1     163    72.0    135     80            1     2   \n",
       "69999  99999  20540       1     170    72.0    120     80            2     1   \n",
       "\n",
       "       smoke  alco  active  cardio  age_years   BMI  \n",
       "0          0     0       1       0         57  22.0  \n",
       "1          0     0       1       1         62  34.9  \n",
       "2          0     0       0       1         58  23.5  \n",
       "3          0     0       1       1         54  28.7  \n",
       "4          0     0       0       0         54  23.0  \n",
       "...      ...   ...     ...     ...        ...   ...  \n",
       "69995      1     0       1       0         59  26.9  \n",
       "69996      0     0       1       1         69  50.5  \n",
       "69997      0     1       0       1         59  31.4  \n",
       "69998      0     0       0       1         69  27.1  \n",
       "69999      0     0       1       0         63  24.9  \n",
       "\n",
       "[70000 rows x 15 columns]"
      ]
     },
     "execution_count": 15,
     "metadata": {},
     "output_type": "execute_result"
    }
   ],
   "source": [
    "df['BMI'] = df.apply(lambda row: round((row.weight)/(row.height/100*row.height/100), 1), axis=1)\n",
    "df"
   ]
  },
  {
   "cell_type": "markdown",
   "id": "b95355b8",
   "metadata": {
    "_uuid": "1c2baed24cc5b3abb94b5c6c09d571f29b39213b",
    "papermill": {
     "duration": 0.016422,
     "end_time": "2023-02-04T14:11:04.004340",
     "exception": false,
     "start_time": "2023-02-04T14:11:03.987918",
     "status": "completed"
    },
    "tags": []
   },
   "source": [
    "**Question 1.6. (2 points). Choose the correct statements:**\n",
    "\n",
    "1. Median BMI in the sample is within the range of normal BMI values.\n",
    "2. The BMI for women is on average higher than for men.\n",
    "3. Healthy people have, on average, a higher BMI than the people with CVD.\n",
    "4. For healthy, non-drinking men, BMI is closer to the norm than for healthy, non-drinking women"
   ]
  },
  {
   "cell_type": "code",
   "execution_count": 16,
   "id": "6f56a444",
   "metadata": {
    "execution": {
     "iopub.execute_input": "2023-02-04T14:11:04.036344Z",
     "iopub.status.busy": "2023-02-04T14:11:04.035929Z",
     "iopub.status.idle": "2023-02-04T14:11:04.049489Z",
     "shell.execute_reply": "2023-02-04T14:11:04.048142Z"
    },
    "papermill": {
     "duration": 0.0323,
     "end_time": "2023-02-04T14:11:04.052111",
     "exception": false,
     "start_time": "2023-02-04T14:11:04.019811",
     "status": "completed"
    },
    "tags": []
   },
   "outputs": [
    {
     "data": {
      "text/plain": [
       "26.4"
      ]
     },
     "execution_count": 16,
     "metadata": {},
     "output_type": "execute_result"
    }
   ],
   "source": [
    "task1 = df['BMI'].median()\n",
    "task1 #false"
   ]
  },
  {
   "cell_type": "code",
   "execution_count": 17,
   "id": "2aab9c74",
   "metadata": {
    "execution": {
     "iopub.execute_input": "2023-02-04T14:11:04.085683Z",
     "iopub.status.busy": "2023-02-04T14:11:04.085259Z",
     "iopub.status.idle": "2023-02-04T14:11:04.100576Z",
     "shell.execute_reply": "2023-02-04T14:11:04.098880Z"
    },
    "papermill": {
     "duration": 0.036174,
     "end_time": "2023-02-04T14:11:04.103907",
     "exception": false,
     "start_time": "2023-02-04T14:11:04.067733",
     "status": "completed"
    },
    "tags": []
   },
   "outputs": [
    {
     "data": {
      "text/plain": [
       "(27.985798374698, 26.754380874540253)"
      ]
     },
     "execution_count": 17,
     "metadata": {},
     "output_type": "execute_result"
    }
   ],
   "source": [
    "task2 = df.loc[df['gender'] == 1, 'BMI'].mean()\n",
    "task21 = df.loc[df['gender'] == 2, 'BMI'].mean()\n",
    "task2, task21 #true"
   ]
  },
  {
   "cell_type": "code",
   "execution_count": 18,
   "id": "0c5f7ce6",
   "metadata": {
    "execution": {
     "iopub.execute_input": "2023-02-04T14:11:04.139975Z",
     "iopub.status.busy": "2023-02-04T14:11:04.139141Z",
     "iopub.status.idle": "2023-02-04T14:11:04.152617Z",
     "shell.execute_reply": "2023-02-04T14:11:04.151238Z"
    },
    "papermill": {
     "duration": 0.03387,
     "end_time": "2023-02-04T14:11:04.155265",
     "exception": false,
     "start_time": "2023-02-04T14:11:04.121395",
     "status": "completed"
    },
    "tags": []
   },
   "outputs": [
    {
     "data": {
      "text/plain": [
       "(26.546774792267495, 28.565096200577493)"
      ]
     },
     "execution_count": 18,
     "metadata": {},
     "output_type": "execute_result"
    }
   ],
   "source": [
    "task3 = df.loc[df['cardio'] == 0, 'BMI'].mean()\n",
    "task31 = df.loc[df['cardio'] == 1, 'BMI'].mean()\n",
    "task3, task31 #false"
   ]
  },
  {
   "cell_type": "code",
   "execution_count": 19,
   "id": "f4463c3c",
   "metadata": {
    "execution": {
     "iopub.execute_input": "2023-02-04T14:11:04.189972Z",
     "iopub.status.busy": "2023-02-04T14:11:04.189162Z",
     "iopub.status.idle": "2023-02-04T14:11:04.526459Z",
     "shell.execute_reply": "2023-02-04T14:11:04.524157Z"
    },
    "papermill": {
     "duration": 0.359425,
     "end_time": "2023-02-04T14:11:04.530069",
     "exception": false,
     "start_time": "2023-02-04T14:11:04.170644",
     "status": "completed"
    },
    "tags": []
   },
   "outputs": [
    {
     "data": {
      "text/html": [
       "<div>\n",
       "<style scoped>\n",
       "    .dataframe tbody tr th:only-of-type {\n",
       "        vertical-align: middle;\n",
       "    }\n",
       "\n",
       "    .dataframe tbody tr th {\n",
       "        vertical-align: top;\n",
       "    }\n",
       "\n",
       "    .dataframe thead th {\n",
       "        text-align: right;\n",
       "    }\n",
       "</style>\n",
       "<table border=\"1\" class=\"dataframe\">\n",
       "  <thead>\n",
       "    <tr style=\"text-align: right;\">\n",
       "      <th></th>\n",
       "      <th></th>\n",
       "      <th></th>\n",
       "      <th>count</th>\n",
       "      <th>mean</th>\n",
       "      <th>std</th>\n",
       "      <th>min</th>\n",
       "      <th>25%</th>\n",
       "      <th>50%</th>\n",
       "      <th>75%</th>\n",
       "      <th>max</th>\n",
       "    </tr>\n",
       "    <tr>\n",
       "      <th>cardio</th>\n",
       "      <th>gender</th>\n",
       "      <th>alco</th>\n",
       "      <th></th>\n",
       "      <th></th>\n",
       "      <th></th>\n",
       "      <th></th>\n",
       "      <th></th>\n",
       "      <th></th>\n",
       "      <th></th>\n",
       "      <th></th>\n",
       "    </tr>\n",
       "  </thead>\n",
       "  <tbody>\n",
       "    <tr>\n",
       "      <th rowspan=\"4\" valign=\"top\">0</th>\n",
       "      <th rowspan=\"2\" valign=\"top\">1</th>\n",
       "      <th>0</th>\n",
       "      <td>22332.0</td>\n",
       "      <td>26.843292</td>\n",
       "      <td>5.844310</td>\n",
       "      <td>9.3</td>\n",
       "      <td>23.400</td>\n",
       "      <td>25.7</td>\n",
       "      <td>29.4</td>\n",
       "      <td>237.8</td>\n",
       "    </tr>\n",
       "    <tr>\n",
       "      <th>1</th>\n",
       "      <td>582.0</td>\n",
       "      <td>28.667698</td>\n",
       "      <td>7.047058</td>\n",
       "      <td>16.7</td>\n",
       "      <td>24.300</td>\n",
       "      <td>27.9</td>\n",
       "      <td>31.8</td>\n",
       "      <td>133.1</td>\n",
       "    </tr>\n",
       "    <tr>\n",
       "      <th rowspan=\"2\" valign=\"top\">2</th>\n",
       "      <th>0</th>\n",
       "      <td>10748.0</td>\n",
       "      <td>25.872804</td>\n",
       "      <td>4.919377</td>\n",
       "      <td>14.6</td>\n",
       "      <td>23.300</td>\n",
       "      <td>25.1</td>\n",
       "      <td>27.8</td>\n",
       "      <td>170.4</td>\n",
       "    </tr>\n",
       "    <tr>\n",
       "      <th>1</th>\n",
       "      <td>1359.0</td>\n",
       "      <td>26.096174</td>\n",
       "      <td>5.406027</td>\n",
       "      <td>7.0</td>\n",
       "      <td>23.200</td>\n",
       "      <td>25.4</td>\n",
       "      <td>28.3</td>\n",
       "      <td>133.7</td>\n",
       "    </tr>\n",
       "    <tr>\n",
       "      <th rowspan=\"4\" valign=\"top\">1</th>\n",
       "      <th rowspan=\"2\" valign=\"top\">1</th>\n",
       "      <th>0</th>\n",
       "      <td>22037.0</td>\n",
       "      <td>29.051350</td>\n",
       "      <td>6.903183</td>\n",
       "      <td>8.0</td>\n",
       "      <td>24.600</td>\n",
       "      <td>27.9</td>\n",
       "      <td>32.4</td>\n",
       "      <td>298.7</td>\n",
       "    </tr>\n",
       "    <tr>\n",
       "      <th>1</th>\n",
       "      <td>579.0</td>\n",
       "      <td>30.811399</td>\n",
       "      <td>6.048430</td>\n",
       "      <td>17.7</td>\n",
       "      <td>26.100</td>\n",
       "      <td>30.1</td>\n",
       "      <td>34.5</td>\n",
       "      <td>55.5</td>\n",
       "    </tr>\n",
       "    <tr>\n",
       "      <th rowspan=\"2\" valign=\"top\">2</th>\n",
       "      <th>0</th>\n",
       "      <td>11119.0</td>\n",
       "      <td>27.522241</td>\n",
       "      <td>5.247771</td>\n",
       "      <td>3.5</td>\n",
       "      <td>24.200</td>\n",
       "      <td>26.7</td>\n",
       "      <td>30.0</td>\n",
       "      <td>180.7</td>\n",
       "    </tr>\n",
       "    <tr>\n",
       "      <th>1</th>\n",
       "      <td>1244.0</td>\n",
       "      <td>28.226929</td>\n",
       "      <td>4.759832</td>\n",
       "      <td>17.3</td>\n",
       "      <td>24.975</td>\n",
       "      <td>27.5</td>\n",
       "      <td>30.8</td>\n",
       "      <td>56.5</td>\n",
       "    </tr>\n",
       "  </tbody>\n",
       "</table>\n",
       "</div>"
      ],
      "text/plain": [
       "                      count       mean       std   min     25%   50%   75%  \\\n",
       "cardio gender alco                                                           \n",
       "0      1      0     22332.0  26.843292  5.844310   9.3  23.400  25.7  29.4   \n",
       "              1       582.0  28.667698  7.047058  16.7  24.300  27.9  31.8   \n",
       "       2      0     10748.0  25.872804  4.919377  14.6  23.300  25.1  27.8   \n",
       "              1      1359.0  26.096174  5.406027   7.0  23.200  25.4  28.3   \n",
       "1      1      0     22037.0  29.051350  6.903183   8.0  24.600  27.9  32.4   \n",
       "              1       579.0  30.811399  6.048430  17.7  26.100  30.1  34.5   \n",
       "       2      0     11119.0  27.522241  5.247771   3.5  24.200  26.7  30.0   \n",
       "              1      1244.0  28.226929  4.759832  17.3  24.975  27.5  30.8   \n",
       "\n",
       "                      max  \n",
       "cardio gender alco         \n",
       "0      1      0     237.8  \n",
       "              1     133.1  \n",
       "       2      0     170.4  \n",
       "              1     133.7  \n",
       "1      1      0     298.7  \n",
       "              1      55.5  \n",
       "       2      0     180.7  \n",
       "              1      56.5  "
      ]
     },
     "execution_count": 19,
     "metadata": {},
     "output_type": "execute_result"
    }
   ],
   "source": [
    "task4 = df.groupby(['cardio','gender','alco']).describe()\n",
    "task4['BMI'] #true"
   ]
  },
  {
   "cell_type": "markdown",
   "id": "60a23438",
   "metadata": {
    "_uuid": "2e059032eee1d57c896e24a98b659a5ab16144fd",
    "papermill": {
     "duration": 0.016022,
     "end_time": "2023-02-04T14:11:04.563055",
     "exception": false,
     "start_time": "2023-02-04T14:11:04.547033",
     "status": "completed"
    },
    "tags": []
   },
   "source": [
    "## 1.4. Cleaning data"
   ]
  },
  {
   "cell_type": "markdown",
   "id": "48577487",
   "metadata": {
    "_uuid": "26ccfbcb212c3631b4941a294906c027b974301a",
    "papermill": {
     "duration": 0.014775,
     "end_time": "2023-02-04T14:11:04.593487",
     "exception": false,
     "start_time": "2023-02-04T14:11:04.578712",
     "status": "completed"
    },
    "tags": []
   },
   "source": [
    "### Task:\n",
    "We can see that the data is not perfect. It contains \"dirt\" and inaccuracies. We'll see this better as we visualize the data.\n",
    "\n",
    "Filter out the following patient segments (we consider these as erroneous data)\n",
    "\n",
    "- diastolic pressure is higher than systolic \n",
    "- height is strictly less than 2.5 percentile (Use `pd.Series.quantile` to compute this value. If you are not familiar with the function, please read the docs.)\n",
    "- height is strictly more than 97.5 percentile\n",
    "- weight is strictly less than 2.5 percentile\n",
    "- weight is strictly more than 97.5 percentile\n",
    "\n",
    "This is not everything that we can do to clean this data, but this is sufficient for now."
   ]
  },
  {
   "cell_type": "code",
   "execution_count": 20,
   "id": "4f359ea4",
   "metadata": {
    "_uuid": "483fd26f0aff141810dcb084095c380acafbfbdd",
    "execution": {
     "iopub.execute_input": "2023-02-04T14:11:04.628393Z",
     "iopub.status.busy": "2023-02-04T14:11:04.627979Z",
     "iopub.status.idle": "2023-02-04T14:11:04.655344Z",
     "shell.execute_reply": "2023-02-04T14:11:04.653969Z"
    },
    "papermill": {
     "duration": 0.047899,
     "end_time": "2023-02-04T14:11:04.658152",
     "exception": false,
     "start_time": "2023-02-04T14:11:04.610253",
     "status": "completed"
    },
    "tags": []
   },
   "outputs": [
    {
     "data": {
      "text/plain": [
       "0.9037"
      ]
     },
     "execution_count": 20,
     "metadata": {},
     "output_type": "execute_result"
    }
   ],
   "source": [
    "filtered_df = df[(df['ap_lo'] <= df['ap_hi']) & \n",
    "                 (df['height'] >= df['height'].quantile(0.025)) &\n",
    "                 (df['height'] <= df['height'].quantile(0.975)) &\n",
    "                 (df['weight'] >= df['weight'].quantile(0.025)) & \n",
    "                 (df['weight'] <= df['weight'].quantile(0.975))]\n",
    "\n",
    "filtered_df.shape[0]/df.shape[0] #10%"
   ]
  },
  {
   "cell_type": "markdown",
   "id": "78062255",
   "metadata": {
    "_uuid": "f807adaa6459d1c75d202bb973831369d6eeb20e",
    "papermill": {
     "duration": 0.017238,
     "end_time": "2023-02-04T14:11:04.691731",
     "exception": false,
     "start_time": "2023-02-04T14:11:04.674493",
     "status": "completed"
    },
    "tags": []
   },
   "source": [
    "**Question 1.7. (2 points). What percent of the original data (rounded) did we throw away?**\n",
    "\n",
    "1. 8\n",
    "2. 9\n",
    "3. 10\n",
    "4. 11"
   ]
  },
  {
   "cell_type": "markdown",
   "id": "474b38f6",
   "metadata": {
    "_uuid": "a9f14b459f71ac2304e73145fc199a90131965e7",
    "papermill": {
     "duration": 0.016748,
     "end_time": "2023-02-04T14:11:04.724698",
     "exception": false,
     "start_time": "2023-02-04T14:11:04.707950",
     "status": "completed"
    },
    "tags": []
   },
   "source": [
    "# Part 2. Visual data analysis\n",
    "\n",
    "## 2.1. Correlation matrix visualization\n",
    "\n",
    "To understand the features better, you can create a matrix of the correlation coefficients between the features. Use the initial dataset (non-filtered).\n",
    "\n",
    "### Task:\n",
    "\n",
    "Plot a correlation matrix using [`heatmap()`](http://seaborn.pydata.org/generated/seaborn.heatmap.html). You can create the matrix using the standard `pandas` tools with the default parameters."
   ]
  },
  {
   "cell_type": "code",
   "execution_count": 21,
   "id": "5b91d7da",
   "metadata": {
    "_uuid": "a9c19a7bf2dd564b484e8269886340c13967fede",
    "execution": {
     "iopub.execute_input": "2023-02-04T14:11:04.762205Z",
     "iopub.status.busy": "2023-02-04T14:11:04.761367Z",
     "iopub.status.idle": "2023-02-04T14:11:06.165234Z",
     "shell.execute_reply": "2023-02-04T14:11:06.163803Z"
    },
    "papermill": {
     "duration": 1.426146,
     "end_time": "2023-02-04T14:11:06.169223",
     "exception": false,
     "start_time": "2023-02-04T14:11:04.743077",
     "status": "completed"
    },
    "tags": []
   },
   "outputs": [
    {
     "data": {
      "text/plain": [
       "<AxesSubplot:>"
      ]
     },
     "execution_count": 21,
     "metadata": {},
     "output_type": "execute_result"
    },
    {
     "data": {
      "image/png": "[encoded data removed]",
      "text/plain": [
       "<Figure size 792x576 with 2 Axes>"
      ]
     },
     "metadata": {
      "needs_background": "light"
     },
     "output_type": "display_data"
    }
   ],
   "source": [
    "import seaborn as sns\n",
    "\n",
    "sns.heatmap(df.corr(), annot = True, fmt=\".1f\") # gender - height and smoke"
   ]
  },
  {
   "cell_type": "markdown",
   "id": "524a9f46",
   "metadata": {
    "_uuid": "987ff630db004c51cc9e89e0c6cf6d14d619c4c0",
    "papermill": {
     "duration": 0.018324,
     "end_time": "2023-02-04T14:11:06.207612",
     "exception": false,
     "start_time": "2023-02-04T14:11:06.189288",
     "status": "completed"
    },
    "tags": []
   },
   "source": [
    "** Question 2.1. (1 point).** Which pair of features has the strongest Pearson's correlation with the *gender* feature?\n",
    "\n",
    "1. Cardio, Cholesterol\n",
    "2. Height, Smoke\n",
    "3. Smoke, Alco\n",
    "4. Height, Weight"
   ]
  },
  {
   "cell_type": "markdown",
   "id": "e424ff59",
   "metadata": {
    "_uuid": "01edf6a3a68f47f07164b3e4cb9e6ab5ef1efcd6",
    "papermill": {
     "duration": 0.018491,
     "end_time": "2023-02-04T14:11:06.244633",
     "exception": false,
     "start_time": "2023-02-04T14:11:06.226142",
     "status": "completed"
    },
    "tags": []
   },
   "source": [
    "## 2.2. Height distribution of men and women\n",
    "\n",
    "From our exploration of the unique values earlier, we know that the gender is encoded by the values *1* and *2*. Although you do not know the mapping of these values to gender, you can figure that out graphically by looking at the mean values of height and weight for each value of the *gender* feature.\n",
    "\n",
    "### Task:\n",
    "\n",
    "Create a violin plot for the height and gender using [`violinplot()`](https://seaborn.pydata.org/generated/seaborn.violinplot.html). Use the parameters:\n",
    "- `hue` to split by gender;\n",
    "- `scale` to evaluate the number of records for each gender.\n",
    "\n",
    "In order for the plot to render correctly, you need to convert your `DataFrame` to *long* format using the `melt()` function from `pandas`. Here is [an example](https://stackoverflow.com/a/41575149/3338479) of this for your reference."
   ]
  },
  {
   "cell_type": "code",
   "execution_count": 22,
   "id": "453a32ad",
   "metadata": {
    "_uuid": "71d38ccddbe26ca51c69fbdba7cc4405ee459de4",
    "execution": {
     "iopub.execute_input": "2023-02-04T14:11:06.287529Z",
     "iopub.status.busy": "2023-02-04T14:11:06.286725Z",
     "iopub.status.idle": "2023-02-04T14:11:06.942953Z",
     "shell.execute_reply": "2023-02-04T14:11:06.941956Z"
    },
    "papermill": {
     "duration": 0.681327,
     "end_time": "2023-02-04T14:11:06.946632",
     "exception": false,
     "start_time": "2023-02-04T14:11:06.265305",
     "status": "completed"
    },
    "tags": []
   },
   "outputs": [
    {
     "data": {
      "text/plain": [
       "<AxesSubplot:xlabel='variable', ylabel='value'>"
      ]
     },
     "execution_count": 22,
     "metadata": {},
     "output_type": "execute_result"
    },
    {
     "data": {
      "image/png": "[encoded data removed]",
      "text/plain": [
       "<Figure size 792x576 with 1 Axes>"
      ]
     },
     "metadata": {
      "needs_background": "light"
     },
     "output_type": "display_data"
    }
   ],
   "source": [
    "data = pd.melt(df,value_vars=['height'], id_vars=['gender'])\n",
    "\n",
    "sns.violinplot(x='variable',y = 'value', hue='gender',scale='count', data = data, split=True)"
   ]
  },
  {
   "cell_type": "markdown",
   "id": "61797c06",
   "metadata": {
    "papermill": {
     "duration": 0.021125,
     "end_time": "2023-02-04T14:11:06.986440",
     "exception": false,
     "start_time": "2023-02-04T14:11:06.965315",
     "status": "completed"
    },
    "tags": []
   },
   "source": [
    "**Question 2.2. (1 point).** Which pair of features has the strongest Spearman correlation?\n",
    "\n",
    "1. Height, Weight\n",
    "2. Age, Weight\n",
    "3. Cholesterol, Gluc\n",
    "4. Cardio, Cholesterol\n",
    "5. Ap_hi, Ap_lo\n",
    "6. Smoke, Alco"
   ]
  },
  {
   "cell_type": "code",
   "execution_count": 23,
   "id": "638e939f",
   "metadata": {
    "execution": {
     "iopub.execute_input": "2023-02-04T14:11:07.030259Z",
     "iopub.status.busy": "2023-02-04T14:11:07.029356Z",
     "iopub.status.idle": "2023-02-04T14:11:07.955318Z",
     "shell.execute_reply": "2023-02-04T14:11:07.953634Z"
    },
    "papermill": {
     "duration": 0.951398,
     "end_time": "2023-02-04T14:11:07.959070",
     "exception": false,
     "start_time": "2023-02-04T14:11:07.007672",
     "status": "completed"
    },
    "tags": []
   },
   "outputs": [
    {
     "data": {
      "text/plain": [
       "<AxesSubplot:>"
      ]
     },
     "execution_count": 23,
     "metadata": {},
     "output_type": "execute_result"
    },
    {
     "data": {
      "image/png": "[encoded data removed]",
      "text/plain": [
       "<Figure size 792x576 with 2 Axes>"
      ]
     },
     "metadata": {
      "needs_background": "light"
     },
     "output_type": "display_data"
    }
   ],
   "source": [
    "corr = df[['height','weight', 'age', 'cholesterol', 'gluc', 'cardio', 'ap_hi', 'ap_lo', 'smoke', 'alco']].corr(method='spearman')\n",
    "sns.heatmap(corr, annot = True, fmt= '.1f')"
   ]
  },
  {
   "cell_type": "markdown",
   "id": "bfda1c43",
   "metadata": {
    "papermill": {
     "duration": 0.02322,
     "end_time": "2023-02-04T14:11:08.004322",
     "exception": false,
     "start_time": "2023-02-04T14:11:07.981102",
     "status": "completed"
    },
    "tags": []
   },
   "source": [
    "## 2.3. Rank correlation\n",
    "\n",
    "In most cases, *the Pearson coefficient of linear correlation* is more than enough to discover patterns in data. \n",
    "But let's go a little further and calculate a [rank correlation](https://en.wikipedia.org/wiki/Rank_correlation). It will help us to identify such feature pairs in which the lower rank in the variational series of one feature always precedes the higher rank in the another one (and we have the opposite in the case of negative correlation).\n",
    "\n",
    "### Task:\n",
    "\n",
    "Calculate and plot a correlation matrix using the [Spearman's rank correlation coefficient](https://en.wikipedia.org/wiki/Spearman%27s_rank_correlation_coefficient).\n"
   ]
  },
  {
   "cell_type": "code",
   "execution_count": 24,
   "id": "f5f0646c",
   "metadata": {
    "execution": {
     "iopub.execute_input": "2023-02-04T14:11:08.051923Z",
     "iopub.status.busy": "2023-02-04T14:11:08.051477Z",
     "iopub.status.idle": "2023-02-04T14:11:08.056422Z",
     "shell.execute_reply": "2023-02-04T14:11:08.055256Z"
    },
    "papermill": {
     "duration": 0.029709,
     "end_time": "2023-02-04T14:11:08.058763",
     "exception": false,
     "start_time": "2023-02-04T14:11:08.029054",
     "status": "completed"
    },
    "tags": []
   },
   "outputs": [],
   "source": [
    "# You code here"
   ]
  },
  {
   "cell_type": "markdown",
   "id": "d2639571",
   "metadata": {
    "_uuid": "2282d0651afdbe69cdb68b266e509f20a865a63f",
    "papermill": {
     "duration": 0.020382,
     "end_time": "2023-02-04T14:11:08.099813",
     "exception": false,
     "start_time": "2023-02-04T14:11:08.079431",
     "status": "completed"
    },
    "tags": []
   },
   "source": [
    "**Question 2.3. (1 point).** Why do these features have strong rank correlation?\n",
    "\n",
    "1. Inaccuracies in the data (data acquisition errors).\n",
    "2. Relation is wrong, these features should not be related.\n",
    "3. Nature of the data."
   ]
  },
  {
   "cell_type": "markdown",
   "id": "6eeb24d9",
   "metadata": {
    "_uuid": "25b4b303156fd6f9178c9b23fba4ff3f220a5977",
    "papermill": {
     "duration": 0.022756,
     "end_time": "2023-02-04T14:11:08.145228",
     "exception": false,
     "start_time": "2023-02-04T14:11:08.122472",
     "status": "completed"
    },
    "tags": []
   },
   "source": [
    "## 2.4. Age\n",
    "\n",
    "Previously, we calculated the age of the respondents in years at the moment of examination."
   ]
  },
  {
   "cell_type": "markdown",
   "id": "9c1726c5",
   "metadata": {
    "_uuid": "d48bb97cba3968e7f73c790226278f6fa818871b",
    "papermill": {
     "duration": 0.022999,
     "end_time": "2023-02-04T14:11:08.190984",
     "exception": false,
     "start_time": "2023-02-04T14:11:08.167985",
     "status": "completed"
    },
    "tags": []
   },
   "source": [
    "### Task:\n",
    "\n",
    "Create a *count plot* using [`countplot()`](http://seaborn.pydata.org/generated/seaborn.countplot.html) with the age on the *X* axis and the number of people on the *Y* axis. Your resulting plot should have two columns for each age, corresponding to the number of people for each *cardio* class of that age."
   ]
  },
  {
   "cell_type": "code",
   "execution_count": 25,
   "id": "408290c7",
   "metadata": {
    "execution": {
     "iopub.execute_input": "2023-02-04T14:11:08.238629Z",
     "iopub.status.busy": "2023-02-04T14:11:08.238199Z",
     "iopub.status.idle": "2023-02-04T14:11:08.263569Z",
     "shell.execute_reply": "2023-02-04T14:11:08.261849Z"
    },
    "papermill": {
     "duration": 0.053515,
     "end_time": "2023-02-04T14:11:08.266665",
     "exception": false,
     "start_time": "2023-02-04T14:11:08.213150",
     "status": "completed"
    },
    "tags": []
   },
   "outputs": [
    {
     "data": {
      "text/html": [
       "<div>\n",
       "<style scoped>\n",
       "    .dataframe tbody tr th:only-of-type {\n",
       "        vertical-align: middle;\n",
       "    }\n",
       "\n",
       "    .dataframe tbody tr th {\n",
       "        vertical-align: top;\n",
       "    }\n",
       "\n",
       "    .dataframe thead th {\n",
       "        text-align: right;\n",
       "    }\n",
       "</style>\n",
       "<table border=\"1\" class=\"dataframe\">\n",
       "  <thead>\n",
       "    <tr style=\"text-align: right;\">\n",
       "      <th></th>\n",
       "      <th>id</th>\n",
       "      <th>age</th>\n",
       "      <th>gender</th>\n",
       "      <th>height</th>\n",
       "      <th>weight</th>\n",
       "      <th>ap_hi</th>\n",
       "      <th>ap_lo</th>\n",
       "      <th>cholesterol</th>\n",
       "      <th>gluc</th>\n",
       "      <th>smoke</th>\n",
       "      <th>alco</th>\n",
       "      <th>active</th>\n",
       "      <th>cardio</th>\n",
       "      <th>age_years</th>\n",
       "      <th>BMI</th>\n",
       "    </tr>\n",
       "  </thead>\n",
       "  <tbody>\n",
       "    <tr>\n",
       "      <th>0</th>\n",
       "      <td>0</td>\n",
       "      <td>18393</td>\n",
       "      <td>2</td>\n",
       "      <td>168</td>\n",
       "      <td>62.0</td>\n",
       "      <td>110</td>\n",
       "      <td>80</td>\n",
       "      <td>1</td>\n",
       "      <td>1</td>\n",
       "      <td>0</td>\n",
       "      <td>0</td>\n",
       "      <td>1</td>\n",
       "      <td>0</td>\n",
       "      <td>57</td>\n",
       "      <td>22.0</td>\n",
       "    </tr>\n",
       "    <tr>\n",
       "      <th>1</th>\n",
       "      <td>1</td>\n",
       "      <td>20228</td>\n",
       "      <td>1</td>\n",
       "      <td>156</td>\n",
       "      <td>85.0</td>\n",
       "      <td>140</td>\n",
       "      <td>90</td>\n",
       "      <td>3</td>\n",
       "      <td>1</td>\n",
       "      <td>0</td>\n",
       "      <td>0</td>\n",
       "      <td>1</td>\n",
       "      <td>1</td>\n",
       "      <td>62</td>\n",
       "      <td>34.9</td>\n",
       "    </tr>\n",
       "    <tr>\n",
       "      <th>2</th>\n",
       "      <td>2</td>\n",
       "      <td>18857</td>\n",
       "      <td>1</td>\n",
       "      <td>165</td>\n",
       "      <td>64.0</td>\n",
       "      <td>130</td>\n",
       "      <td>70</td>\n",
       "      <td>3</td>\n",
       "      <td>1</td>\n",
       "      <td>0</td>\n",
       "      <td>0</td>\n",
       "      <td>0</td>\n",
       "      <td>1</td>\n",
       "      <td>58</td>\n",
       "      <td>23.5</td>\n",
       "    </tr>\n",
       "    <tr>\n",
       "      <th>3</th>\n",
       "      <td>3</td>\n",
       "      <td>17623</td>\n",
       "      <td>2</td>\n",
       "      <td>169</td>\n",
       "      <td>82.0</td>\n",
       "      <td>150</td>\n",
       "      <td>100</td>\n",
       "      <td>1</td>\n",
       "      <td>1</td>\n",
       "      <td>0</td>\n",
       "      <td>0</td>\n",
       "      <td>1</td>\n",
       "      <td>1</td>\n",
       "      <td>54</td>\n",
       "      <td>28.7</td>\n",
       "    </tr>\n",
       "    <tr>\n",
       "      <th>4</th>\n",
       "      <td>4</td>\n",
       "      <td>17474</td>\n",
       "      <td>1</td>\n",
       "      <td>156</td>\n",
       "      <td>56.0</td>\n",
       "      <td>100</td>\n",
       "      <td>60</td>\n",
       "      <td>1</td>\n",
       "      <td>1</td>\n",
       "      <td>0</td>\n",
       "      <td>0</td>\n",
       "      <td>0</td>\n",
       "      <td>0</td>\n",
       "      <td>54</td>\n",
       "      <td>23.0</td>\n",
       "    </tr>\n",
       "    <tr>\n",
       "      <th>...</th>\n",
       "      <td>...</td>\n",
       "      <td>...</td>\n",
       "      <td>...</td>\n",
       "      <td>...</td>\n",
       "      <td>...</td>\n",
       "      <td>...</td>\n",
       "      <td>...</td>\n",
       "      <td>...</td>\n",
       "      <td>...</td>\n",
       "      <td>...</td>\n",
       "      <td>...</td>\n",
       "      <td>...</td>\n",
       "      <td>...</td>\n",
       "      <td>...</td>\n",
       "      <td>...</td>\n",
       "    </tr>\n",
       "    <tr>\n",
       "      <th>69995</th>\n",
       "      <td>99993</td>\n",
       "      <td>19240</td>\n",
       "      <td>2</td>\n",
       "      <td>168</td>\n",
       "      <td>76.0</td>\n",
       "      <td>120</td>\n",
       "      <td>80</td>\n",
       "      <td>1</td>\n",
       "      <td>1</td>\n",
       "      <td>1</td>\n",
       "      <td>0</td>\n",
       "      <td>1</td>\n",
       "      <td>0</td>\n",
       "      <td>59</td>\n",
       "      <td>26.9</td>\n",
       "    </tr>\n",
       "    <tr>\n",
       "      <th>69996</th>\n",
       "      <td>99995</td>\n",
       "      <td>22601</td>\n",
       "      <td>1</td>\n",
       "      <td>158</td>\n",
       "      <td>126.0</td>\n",
       "      <td>140</td>\n",
       "      <td>90</td>\n",
       "      <td>2</td>\n",
       "      <td>2</td>\n",
       "      <td>0</td>\n",
       "      <td>0</td>\n",
       "      <td>1</td>\n",
       "      <td>1</td>\n",
       "      <td>69</td>\n",
       "      <td>50.5</td>\n",
       "    </tr>\n",
       "    <tr>\n",
       "      <th>69997</th>\n",
       "      <td>99996</td>\n",
       "      <td>19066</td>\n",
       "      <td>2</td>\n",
       "      <td>183</td>\n",
       "      <td>105.0</td>\n",
       "      <td>180</td>\n",
       "      <td>90</td>\n",
       "      <td>3</td>\n",
       "      <td>1</td>\n",
       "      <td>0</td>\n",
       "      <td>1</td>\n",
       "      <td>0</td>\n",
       "      <td>1</td>\n",
       "      <td>59</td>\n",
       "      <td>31.4</td>\n",
       "    </tr>\n",
       "    <tr>\n",
       "      <th>69998</th>\n",
       "      <td>99998</td>\n",
       "      <td>22431</td>\n",
       "      <td>1</td>\n",
       "      <td>163</td>\n",
       "      <td>72.0</td>\n",
       "      <td>135</td>\n",
       "      <td>80</td>\n",
       "      <td>1</td>\n",
       "      <td>2</td>\n",
       "      <td>0</td>\n",
       "      <td>0</td>\n",
       "      <td>0</td>\n",
       "      <td>1</td>\n",
       "      <td>69</td>\n",
       "      <td>27.1</td>\n",
       "    </tr>\n",
       "    <tr>\n",
       "      <th>69999</th>\n",
       "      <td>99999</td>\n",
       "      <td>20540</td>\n",
       "      <td>1</td>\n",
       "      <td>170</td>\n",
       "      <td>72.0</td>\n",
       "      <td>120</td>\n",
       "      <td>80</td>\n",
       "      <td>2</td>\n",
       "      <td>1</td>\n",
       "      <td>0</td>\n",
       "      <td>0</td>\n",
       "      <td>1</td>\n",
       "      <td>0</td>\n",
       "      <td>63</td>\n",
       "      <td>24.9</td>\n",
       "    </tr>\n",
       "  </tbody>\n",
       "</table>\n",
       "<p>70000 rows × 15 columns</p>\n",
       "</div>"
      ],
      "text/plain": [
       "          id    age  gender  height  weight  ap_hi  ap_lo  cholesterol  gluc  \\\n",
       "0          0  18393       2     168    62.0    110     80            1     1   \n",
       "1          1  20228       1     156    85.0    140     90            3     1   \n",
       "2          2  18857       1     165    64.0    130     70            3     1   \n",
       "3          3  17623       2     169    82.0    150    100            1     1   \n",
       "4          4  17474       1     156    56.0    100     60            1     1   \n",
       "...      ...    ...     ...     ...     ...    ...    ...          ...   ...   \n",
       "69995  99993  19240       2     168    76.0    120     80            1     1   \n",
       "69996  99995  22601       1     158   126.0    140     90            2     2   \n",
       "69997  99996  19066       2     183   105.0    180     90            3     1   \n",
       "69998  99998  22431       1     163    72.0    135     80            1     2   \n",
       "69999  99999  20540       1     170    72.0    120     80            2     1   \n",
       "\n",
       "       smoke  alco  active  cardio  age_years   BMI  \n",
       "0          0     0       1       0         57  22.0  \n",
       "1          0     0       1       1         62  34.9  \n",
       "2          0     0       0       1         58  23.5  \n",
       "3          0     0       1       1         54  28.7  \n",
       "4          0     0       0       0         54  23.0  \n",
       "...      ...   ...     ...     ...        ...   ...  \n",
       "69995      1     0       1       0         59  26.9  \n",
       "69996      0     0       1       1         69  50.5  \n",
       "69997      0     1       0       1         59  31.4  \n",
       "69998      0     0       0       1         69  27.1  \n",
       "69999      0     0       1       0         63  24.9  \n",
       "\n",
       "[70000 rows x 15 columns]"
      ]
     },
     "execution_count": 25,
     "metadata": {},
     "output_type": "execute_result"
    }
   ],
   "source": [
    "df"
   ]
  },
  {
   "cell_type": "code",
   "execution_count": 26,
   "id": "4972c654",
   "metadata": {
    "_uuid": "fd07f3aab9891fd86228d5880a7a38cc88b282ba",
    "execution": {
     "iopub.execute_input": "2023-02-04T14:11:08.314403Z",
     "iopub.status.busy": "2023-02-04T14:11:08.313954Z",
     "iopub.status.idle": "2023-02-04T14:11:09.231962Z",
     "shell.execute_reply": "2023-02-04T14:11:09.230575Z"
    },
    "papermill": {
     "duration": 0.945003,
     "end_time": "2023-02-04T14:11:09.235157",
     "exception": false,
     "start_time": "2023-02-04T14:11:08.290154",
     "status": "completed"
    },
    "tags": []
   },
   "outputs": [
    {
     "data": {
      "text/plain": [
       "<AxesSubplot:xlabel='age_years', ylabel='count'>"
      ]
     },
     "execution_count": 26,
     "metadata": {},
     "output_type": "execute_result"
    },
    {
     "data": {
      "image/png": "[encoded data removed]",
      "text/plain": [
       "<Figure size 1080x720 with 1 Axes>"
      ]
     },
     "metadata": {},
     "output_type": "display_data"
    }
   ],
   "source": [
    "sns.set(rc={'figure.figsize':(15,10)})\n",
    "sns.countplot(data = df, x = df['age_years'], hue = 'cardio')"
   ]
  },
  {
   "cell_type": "markdown",
   "id": "1155771f",
   "metadata": {
    "_uuid": "49557c7bd46d729c27aa8190df65cc25e45e7528",
    "papermill": {
     "duration": 0.023255,
     "end_time": "2023-02-04T14:11:09.283699",
     "exception": false,
     "start_time": "2023-02-04T14:11:09.260444",
     "status": "completed"
    },
    "tags": []
   },
   "source": [
    "**Question 2.4. (1 point).** What is the smallest age at which the number of people with CVD outnumber the number of people without CVD?\n",
    "\n",
    "1. 44\n",
    "2. 55\n",
    "3. 64\n",
    "4. 70"
   ]
  }
 ],
 "metadata": {
  "kernelspec": {
   "display_name": "Python 3",
   "language": "python",
   "name": "python3"
  },
  "language_info": {
   "codemirror_mode": {
    "name": "ipython",
    "version": 3
   },
   "file_extension": ".py",
   "mimetype": "text/x-python",
   "name": "python",
   "nbconvert_exporter": "python",
   "pygments_lexer": "ipython3",
   "version": "3.7.12"
  },
  "papermill": {
   "default_parameters": {},
   "duration": 26.587926,
   "end_time": "2023-02-04T14:11:10.334446",
   "environment_variables": {},
   "exception": null,
   "input_path": "__notebook__.ipynb",
   "output_path": "__notebook__.ipynb",
   "parameters": {},
   "start_time": "2023-02-04T14:10:43.746520",
   "version": "2.3.4"
  }
 },
 "nbformat": 4,
 "nbformat_minor": 5
}
